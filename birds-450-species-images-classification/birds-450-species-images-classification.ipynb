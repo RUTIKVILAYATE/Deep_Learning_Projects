{
 "cells": [
  {
   "cell_type": "markdown",
   "id": "1aedee19",
   "metadata": {
    "papermill": {
     "duration": 0.006158,
     "end_time": "2023-02-07T21:29:05.386036",
     "exception": false,
     "start_time": "2023-02-07T21:29:05.379878",
     "status": "completed"
    },
    "tags": []
   },
   "source": [
    "<div class=\"table-of-contents\" style=\"background-color:#E8E4E3; padding: 20px; margin: 10px; font-size: 110%; border-radius: 25px; box-shadow: 10px 10px 5px 0px rgba(0,0,0,0.75);\">\n",
    "  <h1 style=\"color:#000000;\">TOC</h1>\n",
    "  <ol>\n",
    "     <li><a href=\"#2\" style=\"color: #000000;\">1. Imports</a></li>\n",
    "    <li><a href=\"#4\" style=\"color: #000000;\">2. Data Preprocessing</a></li>\n",
    "    <li><a href=\"#5\" style=\"color: #000000;\">3. Model </a></li>\n",
    "    <li><a href=\"#6\" style=\"color: #000000;\">4. Evaluation</a></li>\n",
    "    <li><a href=\"#7\" style=\"color: #000000;\">5. Conclusion</a></li>\n",
    "    <li><a href=\"#8\" style=\"color: #000000;\">6. Thank You</a></li>  \n",
    "  </ol>\n",
    "</div>\n",
    "\n",
    "<a id=\"1\"></a>\n",
    "<h1 style='background:#E8E4E3;border:0; color:000000;\n",
    "    box-shadow: 10px 10px 5px 0px rgba(0,0,0,0.75);\n",
    "    transform: rotateX(10deg);\n",
    "    '><center style='color: #000000; text-align: center;'>Imports</center></h1>\n",
    "\n",
    "\n",
    "# Imports\n",
    "       "
   ]
  },
  {
   "cell_type": "code",
   "execution_count": 1,
   "id": "8824e764",
   "metadata": {
    "execution": {
     "iopub.execute_input": "2023-02-07T21:29:05.398783Z",
     "iopub.status.busy": "2023-02-07T21:29:05.397936Z",
     "iopub.status.idle": "2023-02-07T21:29:12.441059Z",
     "shell.execute_reply": "2023-02-07T21:29:12.440098Z"
    },
    "papermill": {
     "duration": 7.052414,
     "end_time": "2023-02-07T21:29:12.443586",
     "exception": false,
     "start_time": "2023-02-07T21:29:05.391172",
     "status": "completed"
    },
    "tags": []
   },
   "outputs": [],
   "source": [
    "import os\n",
    "import numpy as np\n",
    "import pandas as pd\n",
    "import tensorflow as tf\n",
    "import matplotlib.pyplot as plt\n",
    "import plotly.express as px\n",
    "\n",
    "from tensorflow.keras.applications import InceptionV3\n",
    "from tensorflow.keras.layers import Conv2D,Add,MaxPooling2D, Dense, BatchNormalization,Input,Flatten, Dropout,GlobalMaxPooling2D,Lambda\n",
    "from tensorflow.keras.models import Model\n",
    "from tensorflow.keras.optimizers import Adam,RMSprop\n",
    "from tensorflow.keras.callbacks import LearningRateScheduler\n",
    "from tensorflow.keras.preprocessing.image import ImageDataGenerator "
   ]
  },
  {
   "cell_type": "markdown",
   "id": "37ac7b56",
   "metadata": {
    "papermill": {
     "duration": 0.004911,
     "end_time": "2023-02-07T21:29:12.453741",
     "exception": false,
     "start_time": "2023-02-07T21:29:12.448830",
     "status": "completed"
    },
    "tags": []
   },
   "source": [
    "<a id=\"2\"></a>\n",
    "<h1 style='background:#E8E4E3;border:0; color:000000;\n",
    "    box-shadow: 10px 10px 5px 0px rgba(0,0,0,0.75);\n",
    "    transform: rotateX(10deg);\n",
    "    '><center style='color: #000000;'>Data Preprocessing</center></h1>\n",
    "\n",
    "\n",
    "       \n",
    "    \n",
    "# Data Preprocessing"
   ]
  },
  {
   "cell_type": "code",
   "execution_count": 2,
   "id": "8dec8bce",
   "metadata": {
    "execution": {
     "iopub.execute_input": "2023-02-07T21:29:12.465094Z",
     "iopub.status.busy": "2023-02-07T21:29:12.464755Z",
     "iopub.status.idle": "2023-02-07T21:29:12.477847Z",
     "shell.execute_reply": "2023-02-07T21:29:12.476929Z"
    },
    "papermill": {
     "duration": 0.021138,
     "end_time": "2023-02-07T21:29:12.479893",
     "exception": false,
     "start_time": "2023-02-07T21:29:12.458755",
     "status": "completed"
    },
    "tags": []
   },
   "outputs": [
    {
     "data": {
      "text/plain": [
       "['info.txt',\n",
       " 'MobileNet-475-(224 X 224)-98.85.h5',\n",
       " 'images to predict',\n",
       " 'valid',\n",
       " 'test',\n",
       " 'birds.csv',\n",
       " 'train']"
      ]
     },
     "execution_count": 2,
     "metadata": {},
     "output_type": "execute_result"
    }
   ],
   "source": [
    "os.listdir('/kaggle/input/100-bird-species')"
   ]
  },
  {
   "cell_type": "markdown",
   "id": "e375c654",
   "metadata": {
    "papermill": {
     "duration": 0.004956,
     "end_time": "2023-02-07T21:29:12.490089",
     "exception": false,
     "start_time": "2023-02-07T21:29:12.485133",
     "status": "completed"
    },
    "tags": []
   },
   "source": [
    "**First let's define path to train, test, validation**"
   ]
  },
  {
   "cell_type": "code",
   "execution_count": 3,
   "id": "a6681e61",
   "metadata": {
    "execution": {
     "iopub.execute_input": "2023-02-07T21:29:12.501999Z",
     "iopub.status.busy": "2023-02-07T21:29:12.501666Z",
     "iopub.status.idle": "2023-02-07T21:29:12.506180Z",
     "shell.execute_reply": "2023-02-07T21:29:12.505201Z"
    },
    "papermill": {
     "duration": 0.012919,
     "end_time": "2023-02-07T21:29:12.508181",
     "exception": false,
     "start_time": "2023-02-07T21:29:12.495262",
     "status": "completed"
    },
    "tags": []
   },
   "outputs": [],
   "source": [
    "train = '/kaggle/input/100-bird-species/train'\n",
    "validation = '/kaggle/input/100-bird-species/valid'\n",
    "test = '/kaggle/input/100-bird-species/test'"
   ]
  },
  {
   "cell_type": "markdown",
   "id": "74cf654e",
   "metadata": {
    "papermill": {
     "duration": 0.004999,
     "end_time": "2023-02-07T21:29:12.518488",
     "exception": false,
     "start_time": "2023-02-07T21:29:12.513489",
     "status": "completed"
    },
    "tags": []
   },
   "source": [
    "## Create data generators"
   ]
  },
  {
   "cell_type": "code",
   "execution_count": 4,
   "id": "e7c89832",
   "metadata": {
    "execution": {
     "iopub.execute_input": "2023-02-07T21:29:12.530600Z",
     "iopub.status.busy": "2023-02-07T21:29:12.529710Z",
     "iopub.status.idle": "2023-02-07T21:29:12.535509Z",
     "shell.execute_reply": "2023-02-07T21:29:12.534654Z"
    },
    "papermill": {
     "duration": 0.013835,
     "end_time": "2023-02-07T21:29:12.537490",
     "exception": false,
     "start_time": "2023-02-07T21:29:12.523655",
     "status": "completed"
    },
    "tags": []
   },
   "outputs": [],
   "source": [
    "train_datagen = ImageDataGenerator(rescale = 1./255)#initialize train generator \n",
    "                                 \n",
    "\n",
    "\n",
    "valid_datagen = ImageDataGenerator(rescale = 1.0/255.) #initialize validation generator \n",
    "\n",
    "test_datagen = ImageDataGenerator(rescale = 1.0/255.) #initialize validation generator "
   ]
  },
  {
   "cell_type": "code",
   "execution_count": 5,
   "id": "0cf4ca2b",
   "metadata": {
    "execution": {
     "iopub.execute_input": "2023-02-07T21:29:12.549769Z",
     "iopub.status.busy": "2023-02-07T21:29:12.548867Z",
     "iopub.status.idle": "2023-02-07T21:29:25.458356Z",
     "shell.execute_reply": "2023-02-07T21:29:25.457015Z"
    },
    "papermill": {
     "duration": 12.917868,
     "end_time": "2023-02-07T21:29:25.460426",
     "exception": false,
     "start_time": "2023-02-07T21:29:12.542558",
     "status": "completed"
    },
    "tags": []
   },
   "outputs": [
    {
     "name": "stdout",
     "output_type": "stream",
     "text": [
      "Found 75394 images belonging to 475 classes.\n",
      "Found 2375 images belonging to 475 classes.\n",
      "Found 2375 images belonging to 475 classes.\n"
     ]
    }
   ],
   "source": [
    "train_generator = train_datagen.flow_from_directory(train, target_size=(224,224),batch_size=32,class_mode='categorical')\n",
    "\n",
    "validation_generator = valid_datagen.flow_from_directory(validation, target_size=(224,224),batch_size=32,class_mode='categorical')\n",
    "\n",
    "test_generator = test_datagen.flow_from_directory(test, target_size=(224,224),batch_size=32,class_mode='categorical')"
   ]
  },
  {
   "cell_type": "markdown",
   "id": "446da47d",
   "metadata": {
    "papermill": {
     "duration": 0.005448,
     "end_time": "2023-02-07T21:29:25.471303",
     "exception": false,
     "start_time": "2023-02-07T21:29:25.465855",
     "status": "completed"
    },
    "tags": []
   },
   "source": [
    "<a id=\"3\"></a>\n",
    "<h1 style='background:#E8E4E3;border:0; color:000000;\n",
    "    box-shadow: 10px 10px 5px 0px rgba(0,0,0,0.75);\n",
    "    transform: rotateX(10deg);\n",
    "    '><center style='color: #000000;'>Model</center></h1>\n",
    "\n",
    "\n",
    "       \n",
    "    \n",
    "# Model\n",
    "\n",
    "\n",
    "**As dicussed in this [notebook](https://www.kaggle.com/code/fareselmenshawii/introdution-to-transfer-learning) Transfer Learning can give us a  head start so**\n",
    "\n",
    "\n",
    "**We will be using InceptionV3 with fine tuning**"
   ]
  },
  {
   "cell_type": "code",
   "execution_count": 6,
   "id": "395616c1",
   "metadata": {
    "_kg_hide-input": true,
    "execution": {
     "iopub.execute_input": "2023-02-07T21:29:25.484774Z",
     "iopub.status.busy": "2023-02-07T21:29:25.483860Z",
     "iopub.status.idle": "2023-02-07T21:29:34.606693Z",
     "shell.execute_reply": "2023-02-07T21:29:34.605674Z"
    },
    "papermill": {
     "duration": 9.131727,
     "end_time": "2023-02-07T21:29:34.609188",
     "exception": false,
     "start_time": "2023-02-07T21:29:25.477461",
     "status": "completed"
    },
    "tags": []
   },
   "outputs": [
    {
     "name": "stderr",
     "output_type": "stream",
     "text": [
      "2023-02-07 21:29:25.582170: I tensorflow/stream_executor/cuda/cuda_gpu_executor.cc:937] successful NUMA node read from SysFS had negative value (-1), but there must be at least one NUMA node, so returning NUMA node zero\n",
      "2023-02-07 21:29:25.585994: I tensorflow/stream_executor/cuda/cuda_gpu_executor.cc:937] successful NUMA node read from SysFS had negative value (-1), but there must be at least one NUMA node, so returning NUMA node zero\n",
      "2023-02-07 21:29:25.586687: I tensorflow/stream_executor/cuda/cuda_gpu_executor.cc:937] successful NUMA node read from SysFS had negative value (-1), but there must be at least one NUMA node, so returning NUMA node zero\n",
      "2023-02-07 21:29:25.587852: I tensorflow/core/platform/cpu_feature_guard.cc:142] This TensorFlow binary is optimized with oneAPI Deep Neural Network Library (oneDNN) to use the following CPU instructions in performance-critical operations:  AVX2 AVX512F FMA\n",
      "To enable them in other operations, rebuild TensorFlow with the appropriate compiler flags.\n",
      "2023-02-07 21:29:25.588107: I tensorflow/stream_executor/cuda/cuda_gpu_executor.cc:937] successful NUMA node read from SysFS had negative value (-1), but there must be at least one NUMA node, so returning NUMA node zero\n",
      "2023-02-07 21:29:25.588812: I tensorflow/stream_executor/cuda/cuda_gpu_executor.cc:937] successful NUMA node read from SysFS had negative value (-1), but there must be at least one NUMA node, so returning NUMA node zero\n",
      "2023-02-07 21:29:25.589517: I tensorflow/stream_executor/cuda/cuda_gpu_executor.cc:937] successful NUMA node read from SysFS had negative value (-1), but there must be at least one NUMA node, so returning NUMA node zero\n",
      "2023-02-07 21:29:27.908770: I tensorflow/stream_executor/cuda/cuda_gpu_executor.cc:937] successful NUMA node read from SysFS had negative value (-1), but there must be at least one NUMA node, so returning NUMA node zero\n",
      "2023-02-07 21:29:27.909618: I tensorflow/stream_executor/cuda/cuda_gpu_executor.cc:937] successful NUMA node read from SysFS had negative value (-1), but there must be at least one NUMA node, so returning NUMA node zero\n",
      "2023-02-07 21:29:27.910296: I tensorflow/stream_executor/cuda/cuda_gpu_executor.cc:937] successful NUMA node read from SysFS had negative value (-1), but there must be at least one NUMA node, so returning NUMA node zero\n",
      "2023-02-07 21:29:27.910963: I tensorflow/core/common_runtime/gpu/gpu_device.cc:1510] Created device /job:localhost/replica:0/task:0/device:GPU:0 with 15381 MB memory:  -> device: 0, name: Tesla P100-PCIE-16GB, pci bus id: 0000:00:04.0, compute capability: 6.0\n"
     ]
    },
    {
     "name": "stdout",
     "output_type": "stream",
     "text": [
      "Downloading data from https://storage.googleapis.com/tensorflow/keras-applications/inception_v3/inception_v3_weights_tf_dim_ordering_tf_kernels_notop.h5\n",
      "87916544/87910968 [==============================] - 4s 0us/step\n",
      "87924736/87910968 [==============================] - 4s 0us/step\n"
     ]
    }
   ],
   "source": [
    "#Load Model\n",
    "inception = tf.keras.applications.InceptionV3(weights='imagenet',include_top=False,input_shape=(224,224,3))\n"
   ]
  },
  {
   "cell_type": "code",
   "execution_count": 7,
   "id": "3b66be37",
   "metadata": {
    "execution": {
     "iopub.execute_input": "2023-02-07T21:29:34.628276Z",
     "iopub.status.busy": "2023-02-07T21:29:34.627424Z",
     "iopub.status.idle": "2023-02-07T21:29:34.645973Z",
     "shell.execute_reply": "2023-02-07T21:29:34.645004Z"
    },
    "papermill": {
     "duration": 0.030053,
     "end_time": "2023-02-07T21:29:34.648068",
     "exception": false,
     "start_time": "2023-02-07T21:29:34.618015",
     "status": "completed"
    },
    "tags": []
   },
   "outputs": [],
   "source": [
    "inception.trainable = True\n",
    "for layer in inception.layers[:197]:\n",
    "    layer.trainable = False "
   ]
  },
  {
   "cell_type": "code",
   "execution_count": 8,
   "id": "b44e31fa",
   "metadata": {
    "execution": {
     "iopub.execute_input": "2023-02-07T21:29:34.666131Z",
     "iopub.status.busy": "2023-02-07T21:29:34.665809Z",
     "iopub.status.idle": "2023-02-07T21:29:34.672818Z",
     "shell.execute_reply": "2023-02-07T21:29:34.671813Z"
    },
    "papermill": {
     "duration": 0.018402,
     "end_time": "2023-02-07T21:29:34.674884",
     "exception": false,
     "start_time": "2023-02-07T21:29:34.656482",
     "status": "completed"
    },
    "tags": []
   },
   "outputs": [
    {
     "name": "stdout",
     "output_type": "stream",
     "text": [
      "last layer output shape:  (None, 12, 12, 768)\n"
     ]
    }
   ],
   "source": [
    "#get the last layer    \n",
    "last_layer = inception.get_layer('mixed7')\n",
    "\n",
    "print('last layer output shape: ', last_layer.output_shape)\n",
    "\n",
    "layer_output = last_layer.output"
   ]
  },
  {
   "cell_type": "markdown",
   "id": "154592f4",
   "metadata": {
    "papermill": {
     "duration": 0.008243,
     "end_time": "2023-02-07T21:29:34.691567",
     "exception": false,
     "start_time": "2023-02-07T21:29:34.683324",
     "status": "completed"
    },
    "tags": []
   },
   "source": [
    "**Now let's add our network**"
   ]
  },
  {
   "cell_type": "code",
   "execution_count": 9,
   "id": "69ec6aca",
   "metadata": {
    "execution": {
     "iopub.execute_input": "2023-02-07T21:29:34.710917Z",
     "iopub.status.busy": "2023-02-07T21:29:34.709856Z",
     "iopub.status.idle": "2023-02-07T21:29:34.717622Z",
     "shell.execute_reply": "2023-02-07T21:29:34.716676Z"
    },
    "papermill": {
     "duration": 0.019442,
     "end_time": "2023-02-07T21:29:34.719606",
     "exception": false,
     "start_time": "2023-02-07T21:29:34.700164",
     "status": "completed"
    },
    "tags": []
   },
   "outputs": [
    {
     "name": "stdout",
     "output_type": "stream",
     "text": [
      "475\n"
     ]
    }
   ],
   "source": [
    "n_categories = len(os.listdir('/kaggle/input/100-bird-species/train'))# number of categories\n",
    "print(n_categories)"
   ]
  },
  {
   "cell_type": "code",
   "execution_count": 10,
   "id": "4c25b3d2",
   "metadata": {
    "execution": {
     "iopub.execute_input": "2023-02-07T21:29:34.738427Z",
     "iopub.status.busy": "2023-02-07T21:29:34.737621Z",
     "iopub.status.idle": "2023-02-07T21:29:34.775136Z",
     "shell.execute_reply": "2023-02-07T21:29:34.774246Z"
    },
    "papermill": {
     "duration": 0.04903,
     "end_time": "2023-02-07T21:29:34.777175",
     "exception": false,
     "start_time": "2023-02-07T21:29:34.728145",
     "status": "completed"
    },
    "tags": []
   },
   "outputs": [],
   "source": [
    "# x  = BatchNormalization()(layer_output)\n",
    "x = Flatten()(layer_output)\n",
    "x = Dense(1024,activation='relu',kernel_regularizer=tf.keras.regularizers.l2(0.001))(x)\n",
    "x = Dropout(0.4)(x)\n",
    "x = Dense(n_categories, activation='softmax')(x)\n",
    "\n",
    "model = Model(inputs=inception.inputs, outputs=x)"
   ]
  },
  {
   "cell_type": "code",
   "execution_count": 11,
   "id": "a50cec59",
   "metadata": {
    "execution": {
     "iopub.execute_input": "2023-02-07T21:29:34.796253Z",
     "iopub.status.busy": "2023-02-07T21:29:34.795420Z",
     "iopub.status.idle": "2023-02-07T21:29:34.811330Z",
     "shell.execute_reply": "2023-02-07T21:29:34.810455Z"
    },
    "papermill": {
     "duration": 0.027413,
     "end_time": "2023-02-07T21:29:34.813323",
     "exception": false,
     "start_time": "2023-02-07T21:29:34.785910",
     "status": "completed"
    },
    "tags": []
   },
   "outputs": [],
   "source": [
    "# Set the training parameters\n",
    "model.compile(optimizer = RMSprop(learning_rate=0.0001), \n",
    "              loss = 'categorical_crossentropy', \n",
    "              metrics = ['accuracy'])"
   ]
  },
  {
   "cell_type": "code",
   "execution_count": 12,
   "id": "a4d8ab8e",
   "metadata": {
    "execution": {
     "iopub.execute_input": "2023-02-07T21:29:34.832289Z",
     "iopub.status.busy": "2023-02-07T21:29:34.831483Z",
     "iopub.status.idle": "2023-02-07T21:29:34.837120Z",
     "shell.execute_reply": "2023-02-07T21:29:34.836238Z"
    },
    "papermill": {
     "duration": 0.016918,
     "end_time": "2023-02-07T21:29:34.839102",
     "exception": false,
     "start_time": "2023-02-07T21:29:34.822184",
     "status": "completed"
    },
    "tags": []
   },
   "outputs": [],
   "source": [
    "def scheduler(epoch, lr):\n",
    "    if epoch < 10:\n",
    "        return lr\n",
    "    else:\n",
    "        return lr * tf.math.exp(-0.1)\n",
    "    \n",
    "callback = tf.keras.callbacks.LearningRateScheduler(scheduler)"
   ]
  },
  {
   "cell_type": "code",
   "execution_count": 13,
   "id": "28cfca99",
   "metadata": {
    "execution": {
     "iopub.execute_input": "2023-02-07T21:29:34.857806Z",
     "iopub.status.busy": "2023-02-07T21:29:34.857019Z",
     "iopub.status.idle": "2023-02-07T23:19:22.444608Z",
     "shell.execute_reply": "2023-02-07T23:19:22.443650Z"
    },
    "papermill": {
     "duration": 6587.598938,
     "end_time": "2023-02-07T23:19:22.446639",
     "exception": false,
     "start_time": "2023-02-07T21:29:34.847701",
     "status": "completed"
    },
    "tags": []
   },
   "outputs": [
    {
     "name": "stderr",
     "output_type": "stream",
     "text": [
      "2023-02-07 21:29:35.112380: I tensorflow/compiler/mlir/mlir_graph_optimization_pass.cc:185] None of the MLIR Optimization Passes are enabled (registered 2)\n"
     ]
    },
    {
     "name": "stdout",
     "output_type": "stream",
     "text": [
      "Epoch 1/25\n"
     ]
    },
    {
     "name": "stderr",
     "output_type": "stream",
     "text": [
      "2023-02-07 21:29:40.090094: I tensorflow/stream_executor/cuda/cuda_dnn.cc:369] Loaded cuDNN version 8005\n"
     ]
    },
    {
     "name": "stdout",
     "output_type": "stream",
     "text": [
      "2357/2357 [==============================] - 439s 182ms/step - loss: 3.1015 - accuracy: 0.4903 - val_loss: 1.0761 - val_accuracy: 0.8867\n",
      "Epoch 2/25\n",
      "2357/2357 [==============================] - 245s 104ms/step - loss: 1.2090 - accuracy: 0.8363 - val_loss: 0.8432 - val_accuracy: 0.9175\n",
      "Epoch 3/25\n",
      "2357/2357 [==============================] - 245s 104ms/step - loss: 0.8720 - accuracy: 0.8946 - val_loss: 0.7262 - val_accuracy: 0.9297\n",
      "Epoch 4/25\n",
      "2357/2357 [==============================] - 252s 107ms/step - loss: 0.7286 - accuracy: 0.9137 - val_loss: 0.6688 - val_accuracy: 0.9335\n",
      "Epoch 5/25\n",
      "2357/2357 [==============================] - 256s 109ms/step - loss: 0.6486 - accuracy: 0.9230 - val_loss: 0.6186 - val_accuracy: 0.9309\n",
      "Epoch 6/25\n",
      "2357/2357 [==============================] - 247s 105ms/step - loss: 0.5917 - accuracy: 0.9291 - val_loss: 0.5769 - val_accuracy: 0.9368\n",
      "Epoch 7/25\n",
      "2357/2357 [==============================] - 254s 108ms/step - loss: 0.5441 - accuracy: 0.9341 - val_loss: 0.5590 - val_accuracy: 0.9377\n",
      "Epoch 8/25\n",
      "2357/2357 [==============================] - 242s 103ms/step - loss: 0.5078 - accuracy: 0.9370 - val_loss: 0.5348 - val_accuracy: 0.9360\n",
      "Epoch 9/25\n",
      "2357/2357 [==============================] - 249s 106ms/step - loss: 0.4706 - accuracy: 0.9426 - val_loss: 0.5344 - val_accuracy: 0.9360\n",
      "Epoch 10/25\n",
      "2357/2357 [==============================] - 258s 109ms/step - loss: 0.4423 - accuracy: 0.9435 - val_loss: 0.5156 - val_accuracy: 0.9343\n",
      "Epoch 11/25\n",
      "2357/2357 [==============================] - 253s 107ms/step - loss: 0.3909 - accuracy: 0.9510 - val_loss: 0.4806 - val_accuracy: 0.9368\n",
      "Epoch 12/25\n",
      "2357/2357 [==============================] - 245s 104ms/step - loss: 0.3393 - accuracy: 0.9587 - val_loss: 0.4591 - val_accuracy: 0.9360\n",
      "Epoch 13/25\n",
      "2357/2357 [==============================] - 258s 110ms/step - loss: 0.2968 - accuracy: 0.9633 - val_loss: 0.4129 - val_accuracy: 0.9347\n",
      "Epoch 14/25\n",
      "2357/2357 [==============================] - 248s 105ms/step - loss: 0.2609 - accuracy: 0.9691 - val_loss: 0.4026 - val_accuracy: 0.9389\n",
      "Epoch 15/25\n",
      "2357/2357 [==============================] - 263s 112ms/step - loss: 0.2301 - accuracy: 0.9729 - val_loss: 0.3903 - val_accuracy: 0.9314\n",
      "Epoch 16/25\n",
      "2357/2357 [==============================] - 264s 112ms/step - loss: 0.2040 - accuracy: 0.9766 - val_loss: 0.3883 - val_accuracy: 0.9368\n",
      "Epoch 17/25\n",
      "2357/2357 [==============================] - 260s 110ms/step - loss: 0.1833 - accuracy: 0.9794 - val_loss: 0.3537 - val_accuracy: 0.9389\n",
      "Epoch 18/25\n",
      "2357/2357 [==============================] - 250s 106ms/step - loss: 0.1662 - accuracy: 0.9817 - val_loss: 0.3427 - val_accuracy: 0.9373\n",
      "Epoch 19/25\n",
      "2357/2357 [==============================] - 254s 108ms/step - loss: 0.1488 - accuracy: 0.9841 - val_loss: 0.3398 - val_accuracy: 0.9415\n",
      "Epoch 20/25\n",
      "2357/2357 [==============================] - 262s 111ms/step - loss: 0.1342 - accuracy: 0.9863 - val_loss: 0.3296 - val_accuracy: 0.9368\n",
      "Epoch 21/25\n",
      "2357/2357 [==============================] - 252s 107ms/step - loss: 0.1241 - accuracy: 0.9872 - val_loss: 0.3225 - val_accuracy: 0.9364\n",
      "Epoch 22/25\n",
      "2357/2357 [==============================] - 263s 111ms/step - loss: 0.1130 - accuracy: 0.9888 - val_loss: 0.3283 - val_accuracy: 0.9364\n",
      "Epoch 23/25\n",
      "2357/2357 [==============================] - 252s 107ms/step - loss: 0.1038 - accuracy: 0.9901 - val_loss: 0.3120 - val_accuracy: 0.9394\n",
      "Epoch 24/25\n",
      "2357/2357 [==============================] - 256s 109ms/step - loss: 0.0959 - accuracy: 0.9913 - val_loss: 0.3037 - val_accuracy: 0.9411\n",
      "Epoch 25/25\n",
      "2357/2357 [==============================] - 252s 107ms/step - loss: 0.0921 - accuracy: 0.9916 - val_loss: 0.3098 - val_accuracy: 0.9394\n"
     ]
    }
   ],
   "source": [
    "history = model.fit(\n",
    "            train_generator,\n",
    "            validation_data = validation_generator,\n",
    "            epochs = 25,\n",
    "callbacks=[callback])"
   ]
  },
  {
   "cell_type": "markdown",
   "id": "e8a4dce4",
   "metadata": {
    "papermill": {
     "duration": 3.367038,
     "end_time": "2023-02-07T23:19:29.121331",
     "exception": false,
     "start_time": "2023-02-07T23:19:25.754293",
     "status": "completed"
    },
    "tags": []
   },
   "source": [
    "<a id=\"4\"></a>\n",
    "<h1 style='background:#E8E4E3;border:0; color:000000;\n",
    "    box-shadow: 10px 10px 5px 0px rgba(0,0,0,0.75);\n",
    "    transform: rotateX(10deg);\n",
    "    '><center style='color: #000000;'>Evaluation</center></h1>\n",
    "\n",
    "\n",
    "       \n",
    "    \n",
    "# Evaluation"
   ]
  },
  {
   "cell_type": "code",
   "execution_count": 14,
   "id": "b3cc3add",
   "metadata": {
    "execution": {
     "iopub.execute_input": "2023-02-07T23:19:36.370038Z",
     "iopub.status.busy": "2023-02-07T23:19:36.369662Z",
     "iopub.status.idle": "2023-02-07T23:19:36.390104Z",
     "shell.execute_reply": "2023-02-07T23:19:36.389153Z"
    },
    "papermill": {
     "duration": 3.360421,
     "end_time": "2023-02-07T23:19:36.392135",
     "exception": false,
     "start_time": "2023-02-07T23:19:33.031714",
     "status": "completed"
    },
    "tags": []
   },
   "outputs": [
    {
     "data": {
      "text/html": [
       "<div>\n",
       "<style scoped>\n",
       "    .dataframe tbody tr th:only-of-type {\n",
       "        vertical-align: middle;\n",
       "    }\n",
       "\n",
       "    .dataframe tbody tr th {\n",
       "        vertical-align: top;\n",
       "    }\n",
       "\n",
       "    .dataframe thead th {\n",
       "        text-align: right;\n",
       "    }\n",
       "</style>\n",
       "<table border=\"1\" class=\"dataframe\">\n",
       "  <thead>\n",
       "    <tr style=\"text-align: right;\">\n",
       "      <th></th>\n",
       "      <th>loss</th>\n",
       "      <th>accuracy</th>\n",
       "      <th>val_loss</th>\n",
       "      <th>val_accuracy</th>\n",
       "      <th>lr</th>\n",
       "    </tr>\n",
       "  </thead>\n",
       "  <tbody>\n",
       "    <tr>\n",
       "      <th>20</th>\n",
       "      <td>0.124070</td>\n",
       "      <td>0.987201</td>\n",
       "      <td>0.322491</td>\n",
       "      <td>0.936421</td>\n",
       "      <td>0.000033</td>\n",
       "    </tr>\n",
       "    <tr>\n",
       "      <th>21</th>\n",
       "      <td>0.112971</td>\n",
       "      <td>0.988832</td>\n",
       "      <td>0.328272</td>\n",
       "      <td>0.936421</td>\n",
       "      <td>0.000030</td>\n",
       "    </tr>\n",
       "    <tr>\n",
       "      <th>22</th>\n",
       "      <td>0.103810</td>\n",
       "      <td>0.990145</td>\n",
       "      <td>0.312035</td>\n",
       "      <td>0.939368</td>\n",
       "      <td>0.000027</td>\n",
       "    </tr>\n",
       "    <tr>\n",
       "      <th>23</th>\n",
       "      <td>0.095902</td>\n",
       "      <td>0.991286</td>\n",
       "      <td>0.303739</td>\n",
       "      <td>0.941053</td>\n",
       "      <td>0.000025</td>\n",
       "    </tr>\n",
       "    <tr>\n",
       "      <th>24</th>\n",
       "      <td>0.092094</td>\n",
       "      <td>0.991617</td>\n",
       "      <td>0.309759</td>\n",
       "      <td>0.939368</td>\n",
       "      <td>0.000022</td>\n",
       "    </tr>\n",
       "  </tbody>\n",
       "</table>\n",
       "</div>"
      ],
      "text/plain": [
       "        loss  accuracy  val_loss  val_accuracy        lr\n",
       "20  0.124070  0.987201  0.322491      0.936421  0.000033\n",
       "21  0.112971  0.988832  0.328272      0.936421  0.000030\n",
       "22  0.103810  0.990145  0.312035      0.939368  0.000027\n",
       "23  0.095902  0.991286  0.303739      0.941053  0.000025\n",
       "24  0.092094  0.991617  0.309759      0.939368  0.000022"
      ]
     },
     "execution_count": 14,
     "metadata": {},
     "output_type": "execute_result"
    }
   ],
   "source": [
    "results = pd.DataFrame(history.history)\n",
    "results.tail()"
   ]
  },
  {
   "cell_type": "code",
   "execution_count": 15,
   "id": "f0eead6a",
   "metadata": {
    "execution": {
     "iopub.execute_input": "2023-02-07T23:19:43.111439Z",
     "iopub.status.busy": "2023-02-07T23:19:43.111072Z",
     "iopub.status.idle": "2023-02-07T23:19:43.943868Z",
     "shell.execute_reply": "2023-02-07T23:19:43.942859Z"
    },
    "papermill": {
     "duration": 4.327903,
     "end_time": "2023-02-07T23:19:43.945929",
     "exception": false,
     "start_time": "2023-02-07T23:19:39.618026",
     "status": "completed"
    },
    "tags": []
   },
   "outputs": [
    {
     "data": {
      "text/html": [
       "        <script type=\"text/javascript\">\n",
       "        window.PlotlyConfig = {MathJaxConfig: 'local'};\n",
       "        if (window.MathJax && window.MathJax.Hub && window.MathJax.Hub.Config) {window.MathJax.Hub.Config({SVG: {font: \"STIX-Web\"}});}\n",
       "        if (typeof require !== 'undefined') {\n",
       "        require.undef(\"plotly\");\n",
       "        requirejs.config({\n",
       "            paths: {\n",
       "                'plotly': ['https://cdn.plot.ly/plotly-2.14.0.min']\n",
       "            }\n",
       "        });\n",
       "        require(['plotly'], function(Plotly) {\n",
       "            window._Plotly = Plotly;\n",
       "        });\n",
       "        }\n",
       "        </script>\n",
       "        "
      ]
     },
     "metadata": {},
     "output_type": "display_data"
    },
    {
     "data": {
      "text/html": [
       "<div>                            <div id=\"c26c7e06-bcc9-446d-b67c-707a95f3a9fc\" class=\"plotly-graph-div\" style=\"height:525px; width:100%;\"></div>            <script type=\"text/javascript\">                require([\"plotly\"], function(Plotly) {                    window.PLOTLYENV=window.PLOTLYENV || {};                                    if (document.getElementById(\"c26c7e06-bcc9-446d-b67c-707a95f3a9fc\")) {                    Plotly.newPlot(                        \"c26c7e06-bcc9-446d-b67c-707a95f3a9fc\",                        [{\"hovertemplate\":\"variable=accuracy<br>index=%{x}<br>value=%{y}<extra></extra>\",\"legendgroup\":\"accuracy\",\"line\":{\"color\":\"#7F00FF\",\"dash\":\"solid\"},\"marker\":{\"symbol\":\"circle\"},\"mode\":\"lines\",\"name\":\"accuracy\",\"orientation\":\"v\",\"showlegend\":true,\"x\":[0,1,2,3,4,5,6,7,8,9,10,11,12,13,14,15,16,17,18,19,20,21,22,23,24],\"xaxis\":\"x\",\"y\":[0.4902909994125366,0.8362734317779541,0.8946335315704346,0.913693368434906,0.9229912161827087,0.9290527105331421,0.9340663552284241,0.9370374083518982,0.9426479339599609,0.943470299243927,0.9510040879249573,0.9586837291717529,0.9633127450942993,0.9690824151039124,0.9728758335113525,0.9765630960464478,0.9793617725372314,0.9816563725471497,0.9841366410255432,0.9862720966339111,0.9872005581855774,0.9888319969177246,0.9901450872421265,0.9912858009338379,0.9916173815727234],\"yaxis\":\"y\",\"type\":\"scatter\"},{\"hovertemplate\":\"variable=val_accuracy<br>index=%{x}<br>value=%{y}<extra></extra>\",\"legendgroup\":\"val_accuracy\",\"line\":{\"color\":\"#00bfff\",\"dash\":\"solid\"},\"marker\":{\"symbol\":\"circle\"},\"mode\":\"lines\",\"name\":\"val_accuracy\",\"orientation\":\"v\",\"showlegend\":true,\"x\":[0,1,2,3,4,5,6,7,8,9,10,11,12,13,14,15,16,17,18,19,20,21,22,23,24],\"xaxis\":\"x\",\"y\":[0.8867368698120117,0.9174736738204956,0.9296842217445374,0.9334737062454224,0.9309473633766174,0.9368420839309692,0.9376842379570007,0.9359999895095825,0.9359999895095825,0.9343158006668091,0.9368420839309692,0.9359999895095825,0.9347368478775024,0.9389473795890808,0.9313684105873108,0.9368420839309692,0.9389473795890808,0.9372631311416626,0.941473662853241,0.9368420839309692,0.9364210367202759,0.9364210367202759,0.9393684267997742,0.9410526156425476,0.9393684267997742],\"yaxis\":\"y\",\"type\":\"scatter\"}],                        {\"template\":{\"data\":{\"barpolar\":[{\"marker\":{\"line\":{\"color\":\"rgb(234,234,242)\",\"width\":0.5},\"pattern\":{\"fillmode\":\"overlay\",\"size\":10,\"solidity\":0.2}},\"type\":\"barpolar\"}],\"bar\":[{\"error_x\":{\"color\":\"rgb(36,36,36)\"},\"error_y\":{\"color\":\"rgb(36,36,36)\"},\"marker\":{\"line\":{\"color\":\"rgb(234,234,242)\",\"width\":0.5},\"pattern\":{\"fillmode\":\"overlay\",\"size\":10,\"solidity\":0.2}},\"type\":\"bar\"}],\"carpet\":[{\"aaxis\":{\"endlinecolor\":\"rgb(36,36,36)\",\"gridcolor\":\"white\",\"linecolor\":\"white\",\"minorgridcolor\":\"white\",\"startlinecolor\":\"rgb(36,36,36)\"},\"baxis\":{\"endlinecolor\":\"rgb(36,36,36)\",\"gridcolor\":\"white\",\"linecolor\":\"white\",\"minorgridcolor\":\"white\",\"startlinecolor\":\"rgb(36,36,36)\"},\"type\":\"carpet\"}],\"choropleth\":[{\"colorbar\":{\"outlinewidth\":0,\"tickcolor\":\"rgb(36,36,36)\",\"ticklen\":8,\"ticks\":\"outside\",\"tickwidth\":2},\"type\":\"choropleth\"}],\"contourcarpet\":[{\"colorbar\":{\"outlinewidth\":0,\"tickcolor\":\"rgb(36,36,36)\",\"ticklen\":8,\"ticks\":\"outside\",\"tickwidth\":2},\"type\":\"contourcarpet\"}],\"contour\":[{\"colorbar\":{\"outlinewidth\":0,\"tickcolor\":\"rgb(36,36,36)\",\"ticklen\":8,\"ticks\":\"outside\",\"tickwidth\":2},\"colorscale\":[[0.0,\"rgb(2,4,25)\"],[0.06274509803921569,\"rgb(24,15,41)\"],[0.12549019607843137,\"rgb(47,23,57)\"],[0.18823529411764706,\"rgb(71,28,72)\"],[0.25098039215686274,\"rgb(97,30,82)\"],[0.3137254901960784,\"rgb(123,30,89)\"],[0.3764705882352941,\"rgb(150,27,91)\"],[0.4392156862745098,\"rgb(177,22,88)\"],[0.5019607843137255,\"rgb(203,26,79)\"],[0.5647058823529412,\"rgb(223,47,67)\"],[0.6274509803921569,\"rgb(236,76,61)\"],[0.6901960784313725,\"rgb(242,107,73)\"],[0.7529411764705882,\"rgb(244,135,95)\"],[0.8156862745098039,\"rgb(245,162,122)\"],[0.8784313725490196,\"rgb(246,188,153)\"],[0.9411764705882353,\"rgb(247,212,187)\"],[1.0,\"rgb(250,234,220)\"]],\"type\":\"contour\"}],\"heatmapgl\":[{\"colorbar\":{\"outlinewidth\":0,\"tickcolor\":\"rgb(36,36,36)\",\"ticklen\":8,\"ticks\":\"outside\",\"tickwidth\":2},\"colorscale\":[[0.0,\"rgb(2,4,25)\"],[0.06274509803921569,\"rgb(24,15,41)\"],[0.12549019607843137,\"rgb(47,23,57)\"],[0.18823529411764706,\"rgb(71,28,72)\"],[0.25098039215686274,\"rgb(97,30,82)\"],[0.3137254901960784,\"rgb(123,30,89)\"],[0.3764705882352941,\"rgb(150,27,91)\"],[0.4392156862745098,\"rgb(177,22,88)\"],[0.5019607843137255,\"rgb(203,26,79)\"],[0.5647058823529412,\"rgb(223,47,67)\"],[0.6274509803921569,\"rgb(236,76,61)\"],[0.6901960784313725,\"rgb(242,107,73)\"],[0.7529411764705882,\"rgb(244,135,95)\"],[0.8156862745098039,\"rgb(245,162,122)\"],[0.8784313725490196,\"rgb(246,188,153)\"],[0.9411764705882353,\"rgb(247,212,187)\"],[1.0,\"rgb(250,234,220)\"]],\"type\":\"heatmapgl\"}],\"heatmap\":[{\"colorbar\":{\"outlinewidth\":0,\"tickcolor\":\"rgb(36,36,36)\",\"ticklen\":8,\"ticks\":\"outside\",\"tickwidth\":2},\"colorscale\":[[0.0,\"rgb(2,4,25)\"],[0.06274509803921569,\"rgb(24,15,41)\"],[0.12549019607843137,\"rgb(47,23,57)\"],[0.18823529411764706,\"rgb(71,28,72)\"],[0.25098039215686274,\"rgb(97,30,82)\"],[0.3137254901960784,\"rgb(123,30,89)\"],[0.3764705882352941,\"rgb(150,27,91)\"],[0.4392156862745098,\"rgb(177,22,88)\"],[0.5019607843137255,\"rgb(203,26,79)\"],[0.5647058823529412,\"rgb(223,47,67)\"],[0.6274509803921569,\"rgb(236,76,61)\"],[0.6901960784313725,\"rgb(242,107,73)\"],[0.7529411764705882,\"rgb(244,135,95)\"],[0.8156862745098039,\"rgb(245,162,122)\"],[0.8784313725490196,\"rgb(246,188,153)\"],[0.9411764705882353,\"rgb(247,212,187)\"],[1.0,\"rgb(250,234,220)\"]],\"type\":\"heatmap\"}],\"histogram2dcontour\":[{\"colorbar\":{\"outlinewidth\":0,\"tickcolor\":\"rgb(36,36,36)\",\"ticklen\":8,\"ticks\":\"outside\",\"tickwidth\":2},\"colorscale\":[[0.0,\"rgb(2,4,25)\"],[0.06274509803921569,\"rgb(24,15,41)\"],[0.12549019607843137,\"rgb(47,23,57)\"],[0.18823529411764706,\"rgb(71,28,72)\"],[0.25098039215686274,\"rgb(97,30,82)\"],[0.3137254901960784,\"rgb(123,30,89)\"],[0.3764705882352941,\"rgb(150,27,91)\"],[0.4392156862745098,\"rgb(177,22,88)\"],[0.5019607843137255,\"rgb(203,26,79)\"],[0.5647058823529412,\"rgb(223,47,67)\"],[0.6274509803921569,\"rgb(236,76,61)\"],[0.6901960784313725,\"rgb(242,107,73)\"],[0.7529411764705882,\"rgb(244,135,95)\"],[0.8156862745098039,\"rgb(245,162,122)\"],[0.8784313725490196,\"rgb(246,188,153)\"],[0.9411764705882353,\"rgb(247,212,187)\"],[1.0,\"rgb(250,234,220)\"]],\"type\":\"histogram2dcontour\"}],\"histogram2d\":[{\"colorbar\":{\"outlinewidth\":0,\"tickcolor\":\"rgb(36,36,36)\",\"ticklen\":8,\"ticks\":\"outside\",\"tickwidth\":2},\"colorscale\":[[0.0,\"rgb(2,4,25)\"],[0.06274509803921569,\"rgb(24,15,41)\"],[0.12549019607843137,\"rgb(47,23,57)\"],[0.18823529411764706,\"rgb(71,28,72)\"],[0.25098039215686274,\"rgb(97,30,82)\"],[0.3137254901960784,\"rgb(123,30,89)\"],[0.3764705882352941,\"rgb(150,27,91)\"],[0.4392156862745098,\"rgb(177,22,88)\"],[0.5019607843137255,\"rgb(203,26,79)\"],[0.5647058823529412,\"rgb(223,47,67)\"],[0.6274509803921569,\"rgb(236,76,61)\"],[0.6901960784313725,\"rgb(242,107,73)\"],[0.7529411764705882,\"rgb(244,135,95)\"],[0.8156862745098039,\"rgb(245,162,122)\"],[0.8784313725490196,\"rgb(246,188,153)\"],[0.9411764705882353,\"rgb(247,212,187)\"],[1.0,\"rgb(250,234,220)\"]],\"type\":\"histogram2d\"}],\"histogram\":[{\"marker\":{\"pattern\":{\"fillmode\":\"overlay\",\"size\":10,\"solidity\":0.2}},\"type\":\"histogram\"}],\"mesh3d\":[{\"colorbar\":{\"outlinewidth\":0,\"tickcolor\":\"rgb(36,36,36)\",\"ticklen\":8,\"ticks\":\"outside\",\"tickwidth\":2},\"type\":\"mesh3d\"}],\"parcoords\":[{\"line\":{\"colorbar\":{\"outlinewidth\":0,\"tickcolor\":\"rgb(36,36,36)\",\"ticklen\":8,\"ticks\":\"outside\",\"tickwidth\":2}},\"type\":\"parcoords\"}],\"pie\":[{\"automargin\":true,\"type\":\"pie\"}],\"scatter3d\":[{\"line\":{\"colorbar\":{\"outlinewidth\":0,\"tickcolor\":\"rgb(36,36,36)\",\"ticklen\":8,\"ticks\":\"outside\",\"tickwidth\":2}},\"marker\":{\"colorbar\":{\"outlinewidth\":0,\"tickcolor\":\"rgb(36,36,36)\",\"ticklen\":8,\"ticks\":\"outside\",\"tickwidth\":2}},\"type\":\"scatter3d\"}],\"scattercarpet\":[{\"marker\":{\"colorbar\":{\"outlinewidth\":0,\"tickcolor\":\"rgb(36,36,36)\",\"ticklen\":8,\"ticks\":\"outside\",\"tickwidth\":2}},\"type\":\"scattercarpet\"}],\"scattergeo\":[{\"marker\":{\"colorbar\":{\"outlinewidth\":0,\"tickcolor\":\"rgb(36,36,36)\",\"ticklen\":8,\"ticks\":\"outside\",\"tickwidth\":2}},\"type\":\"scattergeo\"}],\"scattergl\":[{\"marker\":{\"colorbar\":{\"outlinewidth\":0,\"tickcolor\":\"rgb(36,36,36)\",\"ticklen\":8,\"ticks\":\"outside\",\"tickwidth\":2}},\"type\":\"scattergl\"}],\"scattermapbox\":[{\"marker\":{\"colorbar\":{\"outlinewidth\":0,\"tickcolor\":\"rgb(36,36,36)\",\"ticklen\":8,\"ticks\":\"outside\",\"tickwidth\":2}},\"type\":\"scattermapbox\"}],\"scatterpolargl\":[{\"marker\":{\"colorbar\":{\"outlinewidth\":0,\"tickcolor\":\"rgb(36,36,36)\",\"ticklen\":8,\"ticks\":\"outside\",\"tickwidth\":2}},\"type\":\"scatterpolargl\"}],\"scatterpolar\":[{\"marker\":{\"colorbar\":{\"outlinewidth\":0,\"tickcolor\":\"rgb(36,36,36)\",\"ticklen\":8,\"ticks\":\"outside\",\"tickwidth\":2}},\"type\":\"scatterpolar\"}],\"scatter\":[{\"fillpattern\":{\"fillmode\":\"overlay\",\"size\":10,\"solidity\":0.2},\"type\":\"scatter\"}],\"scatterternary\":[{\"marker\":{\"colorbar\":{\"outlinewidth\":0,\"tickcolor\":\"rgb(36,36,36)\",\"ticklen\":8,\"ticks\":\"outside\",\"tickwidth\":2}},\"type\":\"scatterternary\"}],\"surface\":[{\"colorbar\":{\"outlinewidth\":0,\"tickcolor\":\"rgb(36,36,36)\",\"ticklen\":8,\"ticks\":\"outside\",\"tickwidth\":2},\"colorscale\":[[0.0,\"rgb(2,4,25)\"],[0.06274509803921569,\"rgb(24,15,41)\"],[0.12549019607843137,\"rgb(47,23,57)\"],[0.18823529411764706,\"rgb(71,28,72)\"],[0.25098039215686274,\"rgb(97,30,82)\"],[0.3137254901960784,\"rgb(123,30,89)\"],[0.3764705882352941,\"rgb(150,27,91)\"],[0.4392156862745098,\"rgb(177,22,88)\"],[0.5019607843137255,\"rgb(203,26,79)\"],[0.5647058823529412,\"rgb(223,47,67)\"],[0.6274509803921569,\"rgb(236,76,61)\"],[0.6901960784313725,\"rgb(242,107,73)\"],[0.7529411764705882,\"rgb(244,135,95)\"],[0.8156862745098039,\"rgb(245,162,122)\"],[0.8784313725490196,\"rgb(246,188,153)\"],[0.9411764705882353,\"rgb(247,212,187)\"],[1.0,\"rgb(250,234,220)\"]],\"type\":\"surface\"}],\"table\":[{\"cells\":{\"fill\":{\"color\":\"rgb(231,231,240)\"},\"line\":{\"color\":\"white\"}},\"header\":{\"fill\":{\"color\":\"rgb(183,183,191)\"},\"line\":{\"color\":\"white\"}},\"type\":\"table\"}]},\"layout\":{\"annotationdefaults\":{\"arrowcolor\":\"rgb(67,103,167)\"},\"autotypenumbers\":\"strict\",\"coloraxis\":{\"colorbar\":{\"outlinewidth\":0,\"tickcolor\":\"rgb(36,36,36)\",\"ticklen\":8,\"ticks\":\"outside\",\"tickwidth\":2}},\"colorscale\":{\"sequential\":[[0.0,\"rgb(2,4,25)\"],[0.06274509803921569,\"rgb(24,15,41)\"],[0.12549019607843137,\"rgb(47,23,57)\"],[0.18823529411764706,\"rgb(71,28,72)\"],[0.25098039215686274,\"rgb(97,30,82)\"],[0.3137254901960784,\"rgb(123,30,89)\"],[0.3764705882352941,\"rgb(150,27,91)\"],[0.4392156862745098,\"rgb(177,22,88)\"],[0.5019607843137255,\"rgb(203,26,79)\"],[0.5647058823529412,\"rgb(223,47,67)\"],[0.6274509803921569,\"rgb(236,76,61)\"],[0.6901960784313725,\"rgb(242,107,73)\"],[0.7529411764705882,\"rgb(244,135,95)\"],[0.8156862745098039,\"rgb(245,162,122)\"],[0.8784313725490196,\"rgb(246,188,153)\"],[0.9411764705882353,\"rgb(247,212,187)\"],[1.0,\"rgb(250,234,220)\"]],\"sequentialminus\":[[0.0,\"rgb(2,4,25)\"],[0.06274509803921569,\"rgb(24,15,41)\"],[0.12549019607843137,\"rgb(47,23,57)\"],[0.18823529411764706,\"rgb(71,28,72)\"],[0.25098039215686274,\"rgb(97,30,82)\"],[0.3137254901960784,\"rgb(123,30,89)\"],[0.3764705882352941,\"rgb(150,27,91)\"],[0.4392156862745098,\"rgb(177,22,88)\"],[0.5019607843137255,\"rgb(203,26,79)\"],[0.5647058823529412,\"rgb(223,47,67)\"],[0.6274509803921569,\"rgb(236,76,61)\"],[0.6901960784313725,\"rgb(242,107,73)\"],[0.7529411764705882,\"rgb(244,135,95)\"],[0.8156862745098039,\"rgb(245,162,122)\"],[0.8784313725490196,\"rgb(246,188,153)\"],[0.9411764705882353,\"rgb(247,212,187)\"],[1.0,\"rgb(250,234,220)\"]]},\"colorway\":[\"rgb(76,114,176)\",\"rgb(221,132,82)\",\"rgb(85,168,104)\",\"rgb(196,78,82)\",\"rgb(129,114,179)\",\"rgb(147,120,96)\",\"rgb(218,139,195)\",\"rgb(140,140,140)\",\"rgb(204,185,116)\",\"rgb(100,181,205)\"],\"font\":{\"color\":\"rgb(36,36,36)\"},\"geo\":{\"bgcolor\":\"white\",\"lakecolor\":\"white\",\"landcolor\":\"rgb(234,234,242)\",\"showlakes\":true,\"showland\":true,\"subunitcolor\":\"white\"},\"hoverlabel\":{\"align\":\"left\"},\"hovermode\":\"closest\",\"paper_bgcolor\":\"white\",\"plot_bgcolor\":\"rgb(234,234,242)\",\"polar\":{\"angularaxis\":{\"gridcolor\":\"white\",\"linecolor\":\"white\",\"showgrid\":true,\"ticks\":\"\"},\"bgcolor\":\"rgb(234,234,242)\",\"radialaxis\":{\"gridcolor\":\"white\",\"linecolor\":\"white\",\"showgrid\":true,\"ticks\":\"\"}},\"scene\":{\"xaxis\":{\"backgroundcolor\":\"rgb(234,234,242)\",\"gridcolor\":\"white\",\"gridwidth\":2,\"linecolor\":\"white\",\"showbackground\":true,\"showgrid\":true,\"ticks\":\"\",\"zerolinecolor\":\"white\"},\"yaxis\":{\"backgroundcolor\":\"rgb(234,234,242)\",\"gridcolor\":\"white\",\"gridwidth\":2,\"linecolor\":\"white\",\"showbackground\":true,\"showgrid\":true,\"ticks\":\"\",\"zerolinecolor\":\"white\"},\"zaxis\":{\"backgroundcolor\":\"rgb(234,234,242)\",\"gridcolor\":\"white\",\"gridwidth\":2,\"linecolor\":\"white\",\"showbackground\":true,\"showgrid\":true,\"ticks\":\"\",\"zerolinecolor\":\"white\"}},\"shapedefaults\":{\"fillcolor\":\"rgb(67,103,167)\",\"line\":{\"width\":0},\"opacity\":0.5},\"ternary\":{\"aaxis\":{\"gridcolor\":\"white\",\"linecolor\":\"white\",\"showgrid\":true,\"ticks\":\"\"},\"baxis\":{\"gridcolor\":\"white\",\"linecolor\":\"white\",\"showgrid\":true,\"ticks\":\"\"},\"bgcolor\":\"rgb(234,234,242)\",\"caxis\":{\"gridcolor\":\"white\",\"linecolor\":\"white\",\"showgrid\":true,\"ticks\":\"\"}},\"xaxis\":{\"automargin\":true,\"gridcolor\":\"white\",\"linecolor\":\"white\",\"showgrid\":true,\"ticks\":\"\",\"title\":{\"standoff\":15},\"zerolinecolor\":\"white\"},\"yaxis\":{\"automargin\":true,\"gridcolor\":\"white\",\"linecolor\":\"white\",\"showgrid\":true,\"ticks\":\"\",\"title\":{\"standoff\":15},\"zerolinecolor\":\"white\"}}},\"xaxis\":{\"anchor\":\"y\",\"domain\":[0.0,1.0],\"title\":{\"text\":\"Epochs\"},\"color\":\"#41BEE9\"},\"yaxis\":{\"anchor\":\"x\",\"domain\":[0.0,1.0],\"title\":{\"text\":\"value\"},\"color\":\"#41BEE9\"},\"legend\":{\"title\":{\"text\":\"variable\"},\"tracegroupgap\":0},\"margin\":{\"t\":60},\"title\":{\"font\":{\"color\":\"#41BEE9\"}}},                        {\"responsive\": true}                    ).then(function(){\n",
       "                            \n",
       "var gd = document.getElementById('c26c7e06-bcc9-446d-b67c-707a95f3a9fc');\n",
       "var x = new MutationObserver(function (mutations, observer) {{\n",
       "        var display = window.getComputedStyle(gd).display;\n",
       "        if (!display || display === 'none') {{\n",
       "            console.log([gd, 'removed!']);\n",
       "            Plotly.purge(gd);\n",
       "            observer.disconnect();\n",
       "        }}\n",
       "}});\n",
       "\n",
       "// Listen for the removal of the full notebook cells\n",
       "var notebookContainer = gd.closest('#notebook-container');\n",
       "if (notebookContainer) {{\n",
       "    x.observe(notebookContainer, {childList: true});\n",
       "}}\n",
       "\n",
       "// Listen for the clearing of the current output cell\n",
       "var outputEl = gd.closest('.output');\n",
       "if (outputEl) {{\n",
       "    x.observe(outputEl, {childList: true});\n",
       "}}\n",
       "\n",
       "                        })                };                });            </script>        </div>"
      ]
     },
     "metadata": {},
     "output_type": "display_data"
    }
   ],
   "source": [
    "fig = px.line(results,y=[results['accuracy'],results['val_accuracy']],template=\"seaborn\",color_discrete_sequence=['#7F00FF','#00bfff'])\n",
    "fig.update_layout(   \n",
    "    title_font_color=\"#41BEE9\", \n",
    "    xaxis=dict(color=\"#41BEE9\",title='Epochs'), \n",
    "    yaxis=dict(color=\"#41BEE9\")\n",
    " )\n",
    "fig.show()"
   ]
  },
  {
   "cell_type": "code",
   "execution_count": 16,
   "id": "0f638080",
   "metadata": {
    "execution": {
     "iopub.execute_input": "2023-02-07T23:19:50.671125Z",
     "iopub.status.busy": "2023-02-07T23:19:50.670739Z",
     "iopub.status.idle": "2023-02-07T23:19:50.741964Z",
     "shell.execute_reply": "2023-02-07T23:19:50.740859Z"
    },
    "papermill": {
     "duration": 3.401032,
     "end_time": "2023-02-07T23:19:50.744476",
     "exception": false,
     "start_time": "2023-02-07T23:19:47.343444",
     "status": "completed"
    },
    "tags": []
   },
   "outputs": [
    {
     "data": {
      "text/html": [
       "<div>                            <div id=\"fca35cf1-4e2d-4e90-b794-41a48ce8be15\" class=\"plotly-graph-div\" style=\"height:525px; width:100%;\"></div>            <script type=\"text/javascript\">                require([\"plotly\"], function(Plotly) {                    window.PLOTLYENV=window.PLOTLYENV || {};                                    if (document.getElementById(\"fca35cf1-4e2d-4e90-b794-41a48ce8be15\")) {                    Plotly.newPlot(                        \"fca35cf1-4e2d-4e90-b794-41a48ce8be15\",                        [{\"hovertemplate\":\"variable=loss<br>index=%{x}<br>value=%{y}<extra></extra>\",\"legendgroup\":\"loss\",\"line\":{\"color\":\"#7F00FF\",\"dash\":\"solid\"},\"marker\":{\"symbol\":\"circle\"},\"mode\":\"lines\",\"name\":\"loss\",\"orientation\":\"v\",\"showlegend\":true,\"x\":[0,1,2,3,4,5,6,7,8,9,10,11,12,13,14,15,16,17,18,19,20,21,22,23,24],\"xaxis\":\"x\",\"y\":[3.1015448570251465,1.208972454071045,0.8720460534095764,0.7286140322685242,0.6485803723335266,0.5917483568191528,0.5440513491630554,0.5078433156013489,0.47060295939445496,0.4422506093978882,0.39094653725624084,0.3393157124519348,0.29677945375442505,0.2608721852302551,0.23009024560451508,0.20396125316619873,0.18333059549331665,0.16617199778556824,0.14877456426620483,0.13420642912387848,0.1240704283118248,0.11297125369310379,0.10381019860506058,0.0959024429321289,0.09209364652633667],\"yaxis\":\"y\",\"type\":\"scatter\"},{\"hovertemplate\":\"variable=val_loss<br>index=%{x}<br>value=%{y}<extra></extra>\",\"legendgroup\":\"val_loss\",\"line\":{\"color\":\"#00bfff\",\"dash\":\"solid\"},\"marker\":{\"symbol\":\"circle\"},\"mode\":\"lines\",\"name\":\"val_loss\",\"orientation\":\"v\",\"showlegend\":true,\"x\":[0,1,2,3,4,5,6,7,8,9,10,11,12,13,14,15,16,17,18,19,20,21,22,23,24],\"xaxis\":\"x\",\"y\":[1.0760751962661743,0.8431612253189087,0.7261525988578796,0.6687594056129456,0.6186445951461792,0.5769141912460327,0.5590006709098816,0.5347736477851868,0.5344483256340027,0.5156286358833313,0.4806464910507202,0.4590795636177063,0.41290292143821716,0.4026438295841217,0.3903016448020935,0.3882751166820526,0.3536706566810608,0.3427136540412903,0.33977046608924866,0.3296251595020294,0.3224906027317047,0.32827228307724,0.31203529238700867,0.30373862385749817,0.3097589313983917],\"yaxis\":\"y\",\"type\":\"scatter\"}],                        {\"template\":{\"data\":{\"barpolar\":[{\"marker\":{\"line\":{\"color\":\"rgb(234,234,242)\",\"width\":0.5},\"pattern\":{\"fillmode\":\"overlay\",\"size\":10,\"solidity\":0.2}},\"type\":\"barpolar\"}],\"bar\":[{\"error_x\":{\"color\":\"rgb(36,36,36)\"},\"error_y\":{\"color\":\"rgb(36,36,36)\"},\"marker\":{\"line\":{\"color\":\"rgb(234,234,242)\",\"width\":0.5},\"pattern\":{\"fillmode\":\"overlay\",\"size\":10,\"solidity\":0.2}},\"type\":\"bar\"}],\"carpet\":[{\"aaxis\":{\"endlinecolor\":\"rgb(36,36,36)\",\"gridcolor\":\"white\",\"linecolor\":\"white\",\"minorgridcolor\":\"white\",\"startlinecolor\":\"rgb(36,36,36)\"},\"baxis\":{\"endlinecolor\":\"rgb(36,36,36)\",\"gridcolor\":\"white\",\"linecolor\":\"white\",\"minorgridcolor\":\"white\",\"startlinecolor\":\"rgb(36,36,36)\"},\"type\":\"carpet\"}],\"choropleth\":[{\"colorbar\":{\"outlinewidth\":0,\"tickcolor\":\"rgb(36,36,36)\",\"ticklen\":8,\"ticks\":\"outside\",\"tickwidth\":2},\"type\":\"choropleth\"}],\"contourcarpet\":[{\"colorbar\":{\"outlinewidth\":0,\"tickcolor\":\"rgb(36,36,36)\",\"ticklen\":8,\"ticks\":\"outside\",\"tickwidth\":2},\"type\":\"contourcarpet\"}],\"contour\":[{\"colorbar\":{\"outlinewidth\":0,\"tickcolor\":\"rgb(36,36,36)\",\"ticklen\":8,\"ticks\":\"outside\",\"tickwidth\":2},\"colorscale\":[[0.0,\"rgb(2,4,25)\"],[0.06274509803921569,\"rgb(24,15,41)\"],[0.12549019607843137,\"rgb(47,23,57)\"],[0.18823529411764706,\"rgb(71,28,72)\"],[0.25098039215686274,\"rgb(97,30,82)\"],[0.3137254901960784,\"rgb(123,30,89)\"],[0.3764705882352941,\"rgb(150,27,91)\"],[0.4392156862745098,\"rgb(177,22,88)\"],[0.5019607843137255,\"rgb(203,26,79)\"],[0.5647058823529412,\"rgb(223,47,67)\"],[0.6274509803921569,\"rgb(236,76,61)\"],[0.6901960784313725,\"rgb(242,107,73)\"],[0.7529411764705882,\"rgb(244,135,95)\"],[0.8156862745098039,\"rgb(245,162,122)\"],[0.8784313725490196,\"rgb(246,188,153)\"],[0.9411764705882353,\"rgb(247,212,187)\"],[1.0,\"rgb(250,234,220)\"]],\"type\":\"contour\"}],\"heatmapgl\":[{\"colorbar\":{\"outlinewidth\":0,\"tickcolor\":\"rgb(36,36,36)\",\"ticklen\":8,\"ticks\":\"outside\",\"tickwidth\":2},\"colorscale\":[[0.0,\"rgb(2,4,25)\"],[0.06274509803921569,\"rgb(24,15,41)\"],[0.12549019607843137,\"rgb(47,23,57)\"],[0.18823529411764706,\"rgb(71,28,72)\"],[0.25098039215686274,\"rgb(97,30,82)\"],[0.3137254901960784,\"rgb(123,30,89)\"],[0.3764705882352941,\"rgb(150,27,91)\"],[0.4392156862745098,\"rgb(177,22,88)\"],[0.5019607843137255,\"rgb(203,26,79)\"],[0.5647058823529412,\"rgb(223,47,67)\"],[0.6274509803921569,\"rgb(236,76,61)\"],[0.6901960784313725,\"rgb(242,107,73)\"],[0.7529411764705882,\"rgb(244,135,95)\"],[0.8156862745098039,\"rgb(245,162,122)\"],[0.8784313725490196,\"rgb(246,188,153)\"],[0.9411764705882353,\"rgb(247,212,187)\"],[1.0,\"rgb(250,234,220)\"]],\"type\":\"heatmapgl\"}],\"heatmap\":[{\"colorbar\":{\"outlinewidth\":0,\"tickcolor\":\"rgb(36,36,36)\",\"ticklen\":8,\"ticks\":\"outside\",\"tickwidth\":2},\"colorscale\":[[0.0,\"rgb(2,4,25)\"],[0.06274509803921569,\"rgb(24,15,41)\"],[0.12549019607843137,\"rgb(47,23,57)\"],[0.18823529411764706,\"rgb(71,28,72)\"],[0.25098039215686274,\"rgb(97,30,82)\"],[0.3137254901960784,\"rgb(123,30,89)\"],[0.3764705882352941,\"rgb(150,27,91)\"],[0.4392156862745098,\"rgb(177,22,88)\"],[0.5019607843137255,\"rgb(203,26,79)\"],[0.5647058823529412,\"rgb(223,47,67)\"],[0.6274509803921569,\"rgb(236,76,61)\"],[0.6901960784313725,\"rgb(242,107,73)\"],[0.7529411764705882,\"rgb(244,135,95)\"],[0.8156862745098039,\"rgb(245,162,122)\"],[0.8784313725490196,\"rgb(246,188,153)\"],[0.9411764705882353,\"rgb(247,212,187)\"],[1.0,\"rgb(250,234,220)\"]],\"type\":\"heatmap\"}],\"histogram2dcontour\":[{\"colorbar\":{\"outlinewidth\":0,\"tickcolor\":\"rgb(36,36,36)\",\"ticklen\":8,\"ticks\":\"outside\",\"tickwidth\":2},\"colorscale\":[[0.0,\"rgb(2,4,25)\"],[0.06274509803921569,\"rgb(24,15,41)\"],[0.12549019607843137,\"rgb(47,23,57)\"],[0.18823529411764706,\"rgb(71,28,72)\"],[0.25098039215686274,\"rgb(97,30,82)\"],[0.3137254901960784,\"rgb(123,30,89)\"],[0.3764705882352941,\"rgb(150,27,91)\"],[0.4392156862745098,\"rgb(177,22,88)\"],[0.5019607843137255,\"rgb(203,26,79)\"],[0.5647058823529412,\"rgb(223,47,67)\"],[0.6274509803921569,\"rgb(236,76,61)\"],[0.6901960784313725,\"rgb(242,107,73)\"],[0.7529411764705882,\"rgb(244,135,95)\"],[0.8156862745098039,\"rgb(245,162,122)\"],[0.8784313725490196,\"rgb(246,188,153)\"],[0.9411764705882353,\"rgb(247,212,187)\"],[1.0,\"rgb(250,234,220)\"]],\"type\":\"histogram2dcontour\"}],\"histogram2d\":[{\"colorbar\":{\"outlinewidth\":0,\"tickcolor\":\"rgb(36,36,36)\",\"ticklen\":8,\"ticks\":\"outside\",\"tickwidth\":2},\"colorscale\":[[0.0,\"rgb(2,4,25)\"],[0.06274509803921569,\"rgb(24,15,41)\"],[0.12549019607843137,\"rgb(47,23,57)\"],[0.18823529411764706,\"rgb(71,28,72)\"],[0.25098039215686274,\"rgb(97,30,82)\"],[0.3137254901960784,\"rgb(123,30,89)\"],[0.3764705882352941,\"rgb(150,27,91)\"],[0.4392156862745098,\"rgb(177,22,88)\"],[0.5019607843137255,\"rgb(203,26,79)\"],[0.5647058823529412,\"rgb(223,47,67)\"],[0.6274509803921569,\"rgb(236,76,61)\"],[0.6901960784313725,\"rgb(242,107,73)\"],[0.7529411764705882,\"rgb(244,135,95)\"],[0.8156862745098039,\"rgb(245,162,122)\"],[0.8784313725490196,\"rgb(246,188,153)\"],[0.9411764705882353,\"rgb(247,212,187)\"],[1.0,\"rgb(250,234,220)\"]],\"type\":\"histogram2d\"}],\"histogram\":[{\"marker\":{\"pattern\":{\"fillmode\":\"overlay\",\"size\":10,\"solidity\":0.2}},\"type\":\"histogram\"}],\"mesh3d\":[{\"colorbar\":{\"outlinewidth\":0,\"tickcolor\":\"rgb(36,36,36)\",\"ticklen\":8,\"ticks\":\"outside\",\"tickwidth\":2},\"type\":\"mesh3d\"}],\"parcoords\":[{\"line\":{\"colorbar\":{\"outlinewidth\":0,\"tickcolor\":\"rgb(36,36,36)\",\"ticklen\":8,\"ticks\":\"outside\",\"tickwidth\":2}},\"type\":\"parcoords\"}],\"pie\":[{\"automargin\":true,\"type\":\"pie\"}],\"scatter3d\":[{\"line\":{\"colorbar\":{\"outlinewidth\":0,\"tickcolor\":\"rgb(36,36,36)\",\"ticklen\":8,\"ticks\":\"outside\",\"tickwidth\":2}},\"marker\":{\"colorbar\":{\"outlinewidth\":0,\"tickcolor\":\"rgb(36,36,36)\",\"ticklen\":8,\"ticks\":\"outside\",\"tickwidth\":2}},\"type\":\"scatter3d\"}],\"scattercarpet\":[{\"marker\":{\"colorbar\":{\"outlinewidth\":0,\"tickcolor\":\"rgb(36,36,36)\",\"ticklen\":8,\"ticks\":\"outside\",\"tickwidth\":2}},\"type\":\"scattercarpet\"}],\"scattergeo\":[{\"marker\":{\"colorbar\":{\"outlinewidth\":0,\"tickcolor\":\"rgb(36,36,36)\",\"ticklen\":8,\"ticks\":\"outside\",\"tickwidth\":2}},\"type\":\"scattergeo\"}],\"scattergl\":[{\"marker\":{\"colorbar\":{\"outlinewidth\":0,\"tickcolor\":\"rgb(36,36,36)\",\"ticklen\":8,\"ticks\":\"outside\",\"tickwidth\":2}},\"type\":\"scattergl\"}],\"scattermapbox\":[{\"marker\":{\"colorbar\":{\"outlinewidth\":0,\"tickcolor\":\"rgb(36,36,36)\",\"ticklen\":8,\"ticks\":\"outside\",\"tickwidth\":2}},\"type\":\"scattermapbox\"}],\"scatterpolargl\":[{\"marker\":{\"colorbar\":{\"outlinewidth\":0,\"tickcolor\":\"rgb(36,36,36)\",\"ticklen\":8,\"ticks\":\"outside\",\"tickwidth\":2}},\"type\":\"scatterpolargl\"}],\"scatterpolar\":[{\"marker\":{\"colorbar\":{\"outlinewidth\":0,\"tickcolor\":\"rgb(36,36,36)\",\"ticklen\":8,\"ticks\":\"outside\",\"tickwidth\":2}},\"type\":\"scatterpolar\"}],\"scatter\":[{\"fillpattern\":{\"fillmode\":\"overlay\",\"size\":10,\"solidity\":0.2},\"type\":\"scatter\"}],\"scatterternary\":[{\"marker\":{\"colorbar\":{\"outlinewidth\":0,\"tickcolor\":\"rgb(36,36,36)\",\"ticklen\":8,\"ticks\":\"outside\",\"tickwidth\":2}},\"type\":\"scatterternary\"}],\"surface\":[{\"colorbar\":{\"outlinewidth\":0,\"tickcolor\":\"rgb(36,36,36)\",\"ticklen\":8,\"ticks\":\"outside\",\"tickwidth\":2},\"colorscale\":[[0.0,\"rgb(2,4,25)\"],[0.06274509803921569,\"rgb(24,15,41)\"],[0.12549019607843137,\"rgb(47,23,57)\"],[0.18823529411764706,\"rgb(71,28,72)\"],[0.25098039215686274,\"rgb(97,30,82)\"],[0.3137254901960784,\"rgb(123,30,89)\"],[0.3764705882352941,\"rgb(150,27,91)\"],[0.4392156862745098,\"rgb(177,22,88)\"],[0.5019607843137255,\"rgb(203,26,79)\"],[0.5647058823529412,\"rgb(223,47,67)\"],[0.6274509803921569,\"rgb(236,76,61)\"],[0.6901960784313725,\"rgb(242,107,73)\"],[0.7529411764705882,\"rgb(244,135,95)\"],[0.8156862745098039,\"rgb(245,162,122)\"],[0.8784313725490196,\"rgb(246,188,153)\"],[0.9411764705882353,\"rgb(247,212,187)\"],[1.0,\"rgb(250,234,220)\"]],\"type\":\"surface\"}],\"table\":[{\"cells\":{\"fill\":{\"color\":\"rgb(231,231,240)\"},\"line\":{\"color\":\"white\"}},\"header\":{\"fill\":{\"color\":\"rgb(183,183,191)\"},\"line\":{\"color\":\"white\"}},\"type\":\"table\"}]},\"layout\":{\"annotationdefaults\":{\"arrowcolor\":\"rgb(67,103,167)\"},\"autotypenumbers\":\"strict\",\"coloraxis\":{\"colorbar\":{\"outlinewidth\":0,\"tickcolor\":\"rgb(36,36,36)\",\"ticklen\":8,\"ticks\":\"outside\",\"tickwidth\":2}},\"colorscale\":{\"sequential\":[[0.0,\"rgb(2,4,25)\"],[0.06274509803921569,\"rgb(24,15,41)\"],[0.12549019607843137,\"rgb(47,23,57)\"],[0.18823529411764706,\"rgb(71,28,72)\"],[0.25098039215686274,\"rgb(97,30,82)\"],[0.3137254901960784,\"rgb(123,30,89)\"],[0.3764705882352941,\"rgb(150,27,91)\"],[0.4392156862745098,\"rgb(177,22,88)\"],[0.5019607843137255,\"rgb(203,26,79)\"],[0.5647058823529412,\"rgb(223,47,67)\"],[0.6274509803921569,\"rgb(236,76,61)\"],[0.6901960784313725,\"rgb(242,107,73)\"],[0.7529411764705882,\"rgb(244,135,95)\"],[0.8156862745098039,\"rgb(245,162,122)\"],[0.8784313725490196,\"rgb(246,188,153)\"],[0.9411764705882353,\"rgb(247,212,187)\"],[1.0,\"rgb(250,234,220)\"]],\"sequentialminus\":[[0.0,\"rgb(2,4,25)\"],[0.06274509803921569,\"rgb(24,15,41)\"],[0.12549019607843137,\"rgb(47,23,57)\"],[0.18823529411764706,\"rgb(71,28,72)\"],[0.25098039215686274,\"rgb(97,30,82)\"],[0.3137254901960784,\"rgb(123,30,89)\"],[0.3764705882352941,\"rgb(150,27,91)\"],[0.4392156862745098,\"rgb(177,22,88)\"],[0.5019607843137255,\"rgb(203,26,79)\"],[0.5647058823529412,\"rgb(223,47,67)\"],[0.6274509803921569,\"rgb(236,76,61)\"],[0.6901960784313725,\"rgb(242,107,73)\"],[0.7529411764705882,\"rgb(244,135,95)\"],[0.8156862745098039,\"rgb(245,162,122)\"],[0.8784313725490196,\"rgb(246,188,153)\"],[0.9411764705882353,\"rgb(247,212,187)\"],[1.0,\"rgb(250,234,220)\"]]},\"colorway\":[\"rgb(76,114,176)\",\"rgb(221,132,82)\",\"rgb(85,168,104)\",\"rgb(196,78,82)\",\"rgb(129,114,179)\",\"rgb(147,120,96)\",\"rgb(218,139,195)\",\"rgb(140,140,140)\",\"rgb(204,185,116)\",\"rgb(100,181,205)\"],\"font\":{\"color\":\"rgb(36,36,36)\"},\"geo\":{\"bgcolor\":\"white\",\"lakecolor\":\"white\",\"landcolor\":\"rgb(234,234,242)\",\"showlakes\":true,\"showland\":true,\"subunitcolor\":\"white\"},\"hoverlabel\":{\"align\":\"left\"},\"hovermode\":\"closest\",\"paper_bgcolor\":\"white\",\"plot_bgcolor\":\"rgb(234,234,242)\",\"polar\":{\"angularaxis\":{\"gridcolor\":\"white\",\"linecolor\":\"white\",\"showgrid\":true,\"ticks\":\"\"},\"bgcolor\":\"rgb(234,234,242)\",\"radialaxis\":{\"gridcolor\":\"white\",\"linecolor\":\"white\",\"showgrid\":true,\"ticks\":\"\"}},\"scene\":{\"xaxis\":{\"backgroundcolor\":\"rgb(234,234,242)\",\"gridcolor\":\"white\",\"gridwidth\":2,\"linecolor\":\"white\",\"showbackground\":true,\"showgrid\":true,\"ticks\":\"\",\"zerolinecolor\":\"white\"},\"yaxis\":{\"backgroundcolor\":\"rgb(234,234,242)\",\"gridcolor\":\"white\",\"gridwidth\":2,\"linecolor\":\"white\",\"showbackground\":true,\"showgrid\":true,\"ticks\":\"\",\"zerolinecolor\":\"white\"},\"zaxis\":{\"backgroundcolor\":\"rgb(234,234,242)\",\"gridcolor\":\"white\",\"gridwidth\":2,\"linecolor\":\"white\",\"showbackground\":true,\"showgrid\":true,\"ticks\":\"\",\"zerolinecolor\":\"white\"}},\"shapedefaults\":{\"fillcolor\":\"rgb(67,103,167)\",\"line\":{\"width\":0},\"opacity\":0.5},\"ternary\":{\"aaxis\":{\"gridcolor\":\"white\",\"linecolor\":\"white\",\"showgrid\":true,\"ticks\":\"\"},\"baxis\":{\"gridcolor\":\"white\",\"linecolor\":\"white\",\"showgrid\":true,\"ticks\":\"\"},\"bgcolor\":\"rgb(234,234,242)\",\"caxis\":{\"gridcolor\":\"white\",\"linecolor\":\"white\",\"showgrid\":true,\"ticks\":\"\"}},\"xaxis\":{\"automargin\":true,\"gridcolor\":\"white\",\"linecolor\":\"white\",\"showgrid\":true,\"ticks\":\"\",\"title\":{\"standoff\":15},\"zerolinecolor\":\"white\"},\"yaxis\":{\"automargin\":true,\"gridcolor\":\"white\",\"linecolor\":\"white\",\"showgrid\":true,\"ticks\":\"\",\"title\":{\"standoff\":15},\"zerolinecolor\":\"white\"}}},\"xaxis\":{\"anchor\":\"y\",\"domain\":[0.0,1.0],\"title\":{\"text\":\"Epochs\"},\"color\":\"#41BEE9\"},\"yaxis\":{\"anchor\":\"x\",\"domain\":[0.0,1.0],\"title\":{\"text\":\"value\"},\"color\":\"#41BEE9\"},\"legend\":{\"title\":{\"text\":\"variable\"},\"tracegroupgap\":0},\"margin\":{\"t\":60},\"title\":{\"font\":{\"color\":\"#41BEE9\"}}},                        {\"responsive\": true}                    ).then(function(){\n",
       "                            \n",
       "var gd = document.getElementById('fca35cf1-4e2d-4e90-b794-41a48ce8be15');\n",
       "var x = new MutationObserver(function (mutations, observer) {{\n",
       "        var display = window.getComputedStyle(gd).display;\n",
       "        if (!display || display === 'none') {{\n",
       "            console.log([gd, 'removed!']);\n",
       "            Plotly.purge(gd);\n",
       "            observer.disconnect();\n",
       "        }}\n",
       "}});\n",
       "\n",
       "// Listen for the removal of the full notebook cells\n",
       "var notebookContainer = gd.closest('#notebook-container');\n",
       "if (notebookContainer) {{\n",
       "    x.observe(notebookContainer, {childList: true});\n",
       "}}\n",
       "\n",
       "// Listen for the clearing of the current output cell\n",
       "var outputEl = gd.closest('.output');\n",
       "if (outputEl) {{\n",
       "    x.observe(outputEl, {childList: true});\n",
       "}}\n",
       "\n",
       "                        })                };                });            </script>        </div>"
      ]
     },
     "metadata": {},
     "output_type": "display_data"
    }
   ],
   "source": [
    "fig = px.line(results,y=[results['loss'],results['val_loss']],template=\"seaborn\",color_discrete_sequence=['#7F00FF','#00bfff'])\n",
    "fig.update_layout(   \n",
    "    title_font_color=\"#41BEE9\", \n",
    "    xaxis=dict(color=\"#41BEE9\",title='Epochs'), \n",
    "    yaxis=dict(color=\"#41BEE9\")\n",
    " )\n",
    "fig.show()"
   ]
  },
  {
   "cell_type": "code",
   "execution_count": 17,
   "id": "4eeb9b28",
   "metadata": {
    "execution": {
     "iopub.execute_input": "2023-02-07T23:19:57.500179Z",
     "iopub.status.busy": "2023-02-07T23:19:57.499795Z",
     "iopub.status.idle": "2023-02-07T23:19:59.865711Z",
     "shell.execute_reply": "2023-02-07T23:19:59.864690Z"
    },
    "papermill": {
     "duration": 5.688578,
     "end_time": "2023-02-07T23:19:59.868299",
     "exception": false,
     "start_time": "2023-02-07T23:19:54.179721",
     "status": "completed"
    },
    "tags": []
   },
   "outputs": [],
   "source": [
    "model.save('model.h5')"
   ]
  },
  {
   "cell_type": "code",
   "execution_count": 18,
   "id": "92048f02",
   "metadata": {
    "execution": {
     "iopub.execute_input": "2023-02-07T23:20:07.621827Z",
     "iopub.status.busy": "2023-02-07T23:20:07.620916Z",
     "iopub.status.idle": "2023-02-07T23:20:26.929984Z",
     "shell.execute_reply": "2023-02-07T23:20:26.929086Z"
    },
    "papermill": {
     "duration": 23.316962,
     "end_time": "2023-02-07T23:20:26.932122",
     "exception": false,
     "start_time": "2023-02-07T23:20:03.615160",
     "status": "completed"
    },
    "tags": []
   },
   "outputs": [
    {
     "data": {
      "text/plain": [
       "[0.18761464953422546, 0.9679999947547913]"
      ]
     },
     "execution_count": 18,
     "metadata": {},
     "output_type": "execute_result"
    }
   ],
   "source": [
    "model.evaluate(test_generator,verbose=0)"
   ]
  },
  {
   "cell_type": "markdown",
   "id": "5f39b07b",
   "metadata": {
    "papermill": {
     "duration": 3.591326,
     "end_time": "2023-02-07T23:20:33.832854",
     "exception": false,
     "start_time": "2023-02-07T23:20:30.241528",
     "status": "completed"
    },
    "tags": []
   },
   "source": [
    "<a id=\"6\"></a>\n",
    "<h1 style='background:#E8E4E3;border:0; color:000000;\n",
    "    box-shadow: 10px 10px 5px 0px rgba(0,0,0,0.75);\n",
    "    transform: rotateX(10deg);\n",
    "    '><center style='color: #000000;'>Conclusion</center></h1>\n",
    "\n",
    "\n",
    "       \n",
    "    \n",
    "# Conclusion\n",
    "\n",
    "**We were able to get decent results with fine-tuning and learning rate sheduler**\n",
    "\n",
    "**After trying data augmentation many times it seems to do worse with the current architecure**"
   ]
  },
  {
   "cell_type": "markdown",
   "id": "72f67ea0",
   "metadata": {
    "papermill": {
     "duration": 3.303432,
     "end_time": "2023-02-07T23:20:40.760346",
     "exception": false,
     "start_time": "2023-02-07T23:20:37.456914",
     "status": "completed"
    },
    "tags": []
   },
   "source": [
    "<a id=\"6\"></a>\n",
    "<h1 style='background:#E8E4E3;border:0; color:000000;\n",
    "    box-shadow: 10px 10px 5px 0px rgba(0,0,0,0.75);\n",
    "    transform: rotateX(10deg);\n",
    "    '><center style='color: #000000;'>Thank You</center></h1>\n",
    "\n",
    "\n",
    "       \n",
    "    \n",
    "# Thank You\n",
    "**Thank you for taking your time and going through this notebook**\n",
    "\n",
    "**If you have any suggestions please let me know**"
   ]
  }
 ],
 "metadata": {
  "kernelspec": {
   "display_name": "Python 3",
   "language": "python",
   "name": "python3"
  },
  "language_info": {
   "codemirror_mode": {
    "name": "ipython",
    "version": 3
   },
   "file_extension": ".py",
   "mimetype": "text/x-python",
   "name": "python",
   "nbconvert_exporter": "python",
   "pygments_lexer": "ipython3",
   "version": "3.7.12"
  },
  "papermill": {
   "default_parameters": {},
   "duration": 6709.57473,
   "end_time": "2023-02-07T23:20:47.155700",
   "environment_variables": {},
   "exception": null,
   "input_path": "__notebook__.ipynb",
   "output_path": "__notebook__.ipynb",
   "parameters": {},
   "start_time": "2023-02-07T21:28:57.580970",
   "version": "2.3.4"
  }
 },
 "nbformat": 4,
 "nbformat_minor": 5
}
