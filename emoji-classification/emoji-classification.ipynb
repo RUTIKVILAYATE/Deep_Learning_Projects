{
 "cells": [
  {
   "cell_type": "markdown",
   "id": "ce6bf156",
   "metadata": {
    "papermill": {
     "duration": 0.006762,
     "end_time": "2023-04-17T15:14:30.348869",
     "exception": false,
     "start_time": "2023-04-17T15:14:30.342107",
     "status": "completed"
    },
    "tags": []
   },
   "source": [
    "<div style=\"padding:10px; \n",
    "            color:black;\n",
    "            margin:10px;\n",
    "            font-size:150%;\n",
    "            display:block;\n",
    "            border-radius:1px;\n",
    "            border-style: solid;\n",
    "            border-color:skyblue;\n",
    "            background-color:#00EFFF;\n",
    "            overflow:hidden;\">\n",
    "    <center>\n",
    "        <a id='top'></a>\n",
    "        <b style=\"color:black\">Table of Contents</b>\n",
    "    </center>\n",
    "    <ul>\n",
    "        <li>\n",
    "            <a href=\"#1\" style=\"color:black\">1 -  Imports</a>\n",
    "        </li>\n",
    "        <li>\n",
    "            <a href=\"#2\" style=\"color:black\">2 - Data Loading and Analysis</a>\n",
    "        </li>\n",
    "         <li>\n",
    "            <a href=\"#3\" style=\"color:black\">3 - Data Preprocessing</a>\n",
    "        </li>\n",
    "            <li>\n",
    "            <a href=\"#4\" style=\"color:black\">4 - Model Implementation </a>\n",
    "        </li>\n",
    "        <li>\n",
    "            <a href=\"#5\" style=\"color:black\">5 - Evaluation</a>\n",
    "        </li>\n",
    "        <li>\n",
    "            <a href=\"#6\" style=\"color:black\">6 - Thank you</a>\n",
    "        </li>\n",
    "    </ul>\n",
    "</div>\n",
    "\n",
    "\n",
    "<a id=\"1\"></a>\n",
    "<h1 style='background:#00EFFF;border:0; color:black;\n",
    "    box-shadow: 10px 10px 5px 0px rgba(0,0,0,0.75);\n",
    "    transform: rotateX(10deg);\n",
    "    '><center style='color: #000000;'>Imports</center></h1>\n",
    "\n",
    "# Imports"
   ]
  },
  {
   "cell_type": "code",
   "execution_count": 1,
   "id": "477de0a4",
   "metadata": {
    "execution": {
     "iopub.execute_input": "2023-04-17T15:14:30.362819Z",
     "iopub.status.busy": "2023-04-17T15:14:30.362190Z",
     "iopub.status.idle": "2023-04-17T15:14:40.746612Z",
     "shell.execute_reply": "2023-04-17T15:14:40.745512Z"
    },
    "papermill": {
     "duration": 10.394768,
     "end_time": "2023-04-17T15:14:40.749565",
     "exception": false,
     "start_time": "2023-04-17T15:14:30.354797",
     "status": "completed"
    },
    "tags": []
   },
   "outputs": [],
   "source": [
    "import numpy as np\n",
    "import pandas as pd\n",
    "import emoji\n",
    "\n",
    "import pprint\n",
    "import plotly.express as px\n",
    "import matplotlib.pyplot as plt\n",
    "from wordcloud import WordCloud\n",
    "\n",
    "import tensorflow as tf\n",
    "from keras.layers import Embedding\n",
    "from keras.models import Sequential\n",
    "from keras.preprocessing.text import Tokenizer\n",
    "from tensorflow.keras.utils import pad_sequences"
   ]
  },
  {
   "cell_type": "markdown",
   "id": "4068a490",
   "metadata": {
    "papermill": {
     "duration": 0.005488,
     "end_time": "2023-04-17T15:14:40.761138",
     "exception": false,
     "start_time": "2023-04-17T15:14:40.755650",
     "status": "completed"
    },
    "tags": []
   },
   "source": [
    "<a id=\"2\"></a>\n",
    "<h1 style='background:#00EFFF;border:0; color:black;\n",
    "    box-shadow: 10px 10px 5px 0px rgba(0,0,0,0.75);\n",
    "    transform: rotateX(10deg);\n",
    "    '><center style='color: #000000;'>Data Loading and Analysis</center></h1>\n",
    "\n",
    "# Data Loading and Analysis"
   ]
  },
  {
   "cell_type": "code",
   "execution_count": 2,
   "id": "c8e03ce5",
   "metadata": {
    "execution": {
     "iopub.execute_input": "2023-04-17T15:14:40.776158Z",
     "iopub.status.busy": "2023-04-17T15:14:40.774091Z",
     "iopub.status.idle": "2023-04-17T15:14:40.780569Z",
     "shell.execute_reply": "2023-04-17T15:14:40.779653Z"
    },
    "papermill": {
     "duration": 0.015897,
     "end_time": "2023-04-17T15:14:40.782917",
     "exception": false,
     "start_time": "2023-04-17T15:14:40.767020",
     "status": "completed"
    },
    "tags": []
   },
   "outputs": [],
   "source": [
    "emoji_dictionary = {\"0\": \"\\u2764\\ufe0f\",\n",
    "                    \"1\": \":baseball:\",\n",
    "                    \"2\": \":smile:\",\n",
    "                    \"3\": \":disappointed:\",\n",
    "                    \"4\": \":fork_and_knife:\"}"
   ]
  },
  {
   "cell_type": "code",
   "execution_count": 3,
   "id": "b958292b",
   "metadata": {
    "execution": {
     "iopub.execute_input": "2023-04-17T15:14:40.795379Z",
     "iopub.status.busy": "2023-04-17T15:14:40.795108Z",
     "iopub.status.idle": "2023-04-17T15:14:40.800482Z",
     "shell.execute_reply": "2023-04-17T15:14:40.799618Z"
    },
    "papermill": {
     "duration": 0.014263,
     "end_time": "2023-04-17T15:14:40.802642",
     "exception": false,
     "start_time": "2023-04-17T15:14:40.788379",
     "status": "completed"
    },
    "tags": []
   },
   "outputs": [],
   "source": [
    "emoji_to_name = {\"0\": \"heart\",   \n",
    "                    \"1\": \"baseball\",\n",
    "                    \"2\": \"smile\",\n",
    "                    \"3\": \"disappointed\",\n",
    "                    \"4\": \"fork_and_knife\"}"
   ]
  },
  {
   "cell_type": "code",
   "execution_count": 4,
   "id": "09859f5d",
   "metadata": {
    "execution": {
     "iopub.execute_input": "2023-04-17T15:14:40.815514Z",
     "iopub.status.busy": "2023-04-17T15:14:40.814747Z",
     "iopub.status.idle": "2023-04-17T15:14:40.819365Z",
     "shell.execute_reply": "2023-04-17T15:14:40.818307Z"
    },
    "papermill": {
     "duration": 0.01369,
     "end_time": "2023-04-17T15:14:40.821839",
     "exception": false,
     "start_time": "2023-04-17T15:14:40.808149",
     "status": "completed"
    },
    "tags": []
   },
   "outputs": [],
   "source": [
    "\n",
    "emoji_to_name = {\"0\": \"heart\",   \n",
    "                    \"1\": \"baseball\",\n",
    "                    \"2\": \"smile\",\n",
    "                    \"3\": \"disappointed\",\n",
    "                    \"4\": \"fork_and_knife\"}"
   ]
  },
  {
   "cell_type": "code",
   "execution_count": 5,
   "id": "7950655f",
   "metadata": {
    "execution": {
     "iopub.execute_input": "2023-04-17T15:14:40.834389Z",
     "iopub.status.busy": "2023-04-17T15:14:40.833834Z",
     "iopub.status.idle": "2023-04-17T15:14:46.311154Z",
     "shell.execute_reply": "2023-04-17T15:14:46.310105Z"
    },
    "papermill": {
     "duration": 5.48653,
     "end_time": "2023-04-17T15:14:46.313837",
     "exception": false,
     "start_time": "2023-04-17T15:14:40.827307",
     "status": "completed"
    },
    "tags": []
   },
   "outputs": [],
   "source": [
    "def read_glove_vecs(glove_file):\n",
    "    with open(glove_file, 'r') as f:\n",
    "        words = set()\n",
    "        words_to_index = {}\n",
    "        index_to_words = {}\n",
    "        word_to_vec_map = {}\n",
    "        for line in f:\n",
    "            line = line.strip().split()\n",
    "            curr_word = line[0]\n",
    "            words.add(curr_word)\n",
    "            word_to_vec_map[curr_word] = np.array(line[1:], dtype=np.float64)\n",
    "\n",
    "        for i, w in enumerate(sorted(words), start=1):\n",
    "            words_to_index[w] = i\n",
    "            index_to_words[i] = w\n",
    "            i = i + 1\n",
    "    return words_to_index, index_to_words, word_to_vec_map\n",
    "\n",
    "word_to_index, index_to_word, word_to_vec_map = read_glove_vecs('/kaggle/input/glove6b50dtxt/glove.6B.50d.txt')"
   ]
  },
  {
   "cell_type": "code",
   "execution_count": 6,
   "id": "f7545483",
   "metadata": {
    "execution": {
     "iopub.execute_input": "2023-04-17T15:14:46.330065Z",
     "iopub.status.busy": "2023-04-17T15:14:46.329622Z",
     "iopub.status.idle": "2023-04-17T15:14:46.335558Z",
     "shell.execute_reply": "2023-04-17T15:14:46.334554Z"
    },
    "papermill": {
     "duration": 0.015689,
     "end_time": "2023-04-17T15:14:46.337978",
     "exception": false,
     "start_time": "2023-04-17T15:14:46.322289",
     "status": "completed"
    },
    "tags": []
   },
   "outputs": [],
   "source": [
    "def read_csv(path='/kaggle/input/emojify/'):\n",
    "    df = pd.read_csv(path, header=None, usecols=[0,1])\n",
    "    X = df.iloc[:,0].values\n",
    "    y = df.iloc[:,1].values\n",
    "    return X, y"
   ]
  },
  {
   "cell_type": "code",
   "execution_count": 7,
   "id": "3af4dbaf",
   "metadata": {
    "execution": {
     "iopub.execute_input": "2023-04-17T15:14:46.350687Z",
     "iopub.status.busy": "2023-04-17T15:14:46.350395Z",
     "iopub.status.idle": "2023-04-17T15:14:46.387268Z",
     "shell.execute_reply": "2023-04-17T15:14:46.386291Z"
    },
    "papermill": {
     "duration": 0.045653,
     "end_time": "2023-04-17T15:14:46.389577",
     "exception": false,
     "start_time": "2023-04-17T15:14:46.343924",
     "status": "completed"
    },
    "tags": []
   },
   "outputs": [],
   "source": [
    "X_train, y_train = read_csv(path='/kaggle/input/emojify/train_emoji.csv')\n",
    "X_test, y_test = read_csv(path='/kaggle/input/emojify/test_emoji.csv')\n",
    "X_test = np.array([sentence.rstrip() for sentence in X_test])"
   ]
  },
  {
   "cell_type": "code",
   "execution_count": 8,
   "id": "44136036",
   "metadata": {
    "execution": {
     "iopub.execute_input": "2023-04-17T15:14:46.402237Z",
     "iopub.status.busy": "2023-04-17T15:14:46.401923Z",
     "iopub.status.idle": "2023-04-17T15:14:46.407330Z",
     "shell.execute_reply": "2023-04-17T15:14:46.406256Z"
    },
    "papermill": {
     "duration": 0.014179,
     "end_time": "2023-04-17T15:14:46.409621",
     "exception": false,
     "start_time": "2023-04-17T15:14:46.395442",
     "status": "completed"
    },
    "tags": []
   },
   "outputs": [],
   "source": [
    "def read_csv(path='/kaggle/input/emojify/'):\n",
    "    df = pd.read_csv(path, header=None, usecols=[0,1])\n",
    "    X = df.iloc[:,0].values\n",
    "    y = df.iloc[:,1].values\n",
    "    return X, y\n",
    "    "
   ]
  },
  {
   "cell_type": "code",
   "execution_count": 9,
   "id": "19c98a42",
   "metadata": {
    "execution": {
     "iopub.execute_input": "2023-04-17T15:14:46.422065Z",
     "iopub.status.busy": "2023-04-17T15:14:46.421762Z",
     "iopub.status.idle": "2023-04-17T15:14:47.080577Z",
     "shell.execute_reply": "2023-04-17T15:14:47.079577Z"
    },
    "papermill": {
     "duration": 0.669878,
     "end_time": "2023-04-17T15:14:47.085140",
     "exception": false,
     "start_time": "2023-04-17T15:14:46.415262",
     "status": "completed"
    },
    "tags": []
   },
   "outputs": [
    {
     "data": {
      "image/png": "[encoded data removed]",
      "text/plain": [
       "<Figure size 1000x600 with 1 Axes>"
      ]
     },
     "metadata": {},
     "output_type": "display_data"
    }
   ],
   "source": [
    "text = ' '.join(X_train)\n",
    "wordcloud = WordCloud(width=800, height=800, background_color='white', max_words=50, collocations=False).generate(text)\n",
    "fig, ax = plt.subplots(figsize=(10, 6))\n",
    "ax.imshow(wordcloud, interpolation='bilinear')\n",
    "ax.set_axis_off()\n",
    "ax.set_title('Word Cloud of Text Data')\n",
    "plt.show()"
   ]
  },
  {
   "cell_type": "code",
   "execution_count": 10,
   "id": "e9de76fb",
   "metadata": {
    "execution": {
     "iopub.execute_input": "2023-04-17T15:14:47.105359Z",
     "iopub.status.busy": "2023-04-17T15:14:47.104937Z",
     "iopub.status.idle": "2023-04-17T15:14:48.367448Z",
     "shell.execute_reply": "2023-04-17T15:14:48.366424Z"
    },
    "papermill": {
     "duration": 1.276437,
     "end_time": "2023-04-17T15:14:48.369572",
     "exception": false,
     "start_time": "2023-04-17T15:14:47.093135",
     "status": "completed"
    },
    "tags": []
   },
   "outputs": [
    {
     "data": {
      "text/html": [
       "        <script type=\"text/javascript\">\n",
       "        window.PlotlyConfig = {MathJaxConfig: 'local'};\n",
       "        if (window.MathJax && window.MathJax.Hub && window.MathJax.Hub.Config) {window.MathJax.Hub.Config({SVG: {font: \"STIX-Web\"}});}\n",
       "        if (typeof require !== 'undefined') {\n",
       "        require.undef(\"plotly\");\n",
       "        requirejs.config({\n",
       "            paths: {\n",
       "                'plotly': ['https://cdn.plot.ly/plotly-2.18.0.min']\n",
       "            }\n",
       "        });\n",
       "        require(['plotly'], function(Plotly) {\n",
       "            window._Plotly = Plotly;\n",
       "        });\n",
       "        }\n",
       "        </script>\n",
       "        "
      ]
     },
     "metadata": {},
     "output_type": "display_data"
    },
    {
     "data": {
      "text/html": [
       "<div>                            <div id=\"0f4185c0-da90-4504-a535-c7ce755e7d45\" class=\"plotly-graph-div\" style=\"height:525px; width:100%;\"></div>            <script type=\"text/javascript\">                require([\"plotly\"], function(Plotly) {                    window.PLOTLYENV=window.PLOTLYENV || {};                                    if (document.getElementById(\"0f4185c0-da90-4504-a535-c7ce755e7d45\")) {                    Plotly.newPlot(                        \"0f4185c0-da90-4504-a535-c7ce755e7d45\",                        [{\"alignmentgroup\":\"True\",\"hovertemplate\":\"x=%{x}<br>y=%{y}<br>color=%{marker.color}<extra></extra>\",\"legendgroup\":\"\",\"marker\":{\"color\":[0,1,2,3,4],\"coloraxis\":\"coloraxis\",\"pattern\":{\"shape\":\"\"}},\"name\":\"\",\"offsetgroup\":\"\",\"orientation\":\"v\",\"showlegend\":false,\"textposition\":\"auto\",\"x\":[\"heart\",\"baseball\",\"smile\",\"disappointed\",\"fork_and_knife\"],\"xaxis\":\"x\",\"y\":[22,19,38,36,17],\"yaxis\":\"y\",\"type\":\"bar\"}],                        {\"template\":{\"data\":{\"histogram2dcontour\":[{\"type\":\"histogram2dcontour\",\"colorbar\":{\"outlinewidth\":0,\"ticks\":\"\"},\"colorscale\":[[0.0,\"#0d0887\"],[0.1111111111111111,\"#46039f\"],[0.2222222222222222,\"#7201a8\"],[0.3333333333333333,\"#9c179e\"],[0.4444444444444444,\"#bd3786\"],[0.5555555555555556,\"#d8576b\"],[0.6666666666666666,\"#ed7953\"],[0.7777777777777778,\"#fb9f3a\"],[0.8888888888888888,\"#fdca26\"],[1.0,\"#f0f921\"]]}],\"choropleth\":[{\"type\":\"choropleth\",\"colorbar\":{\"outlinewidth\":0,\"ticks\":\"\"}}],\"histogram2d\":[{\"type\":\"histogram2d\",\"colorbar\":{\"outlinewidth\":0,\"ticks\":\"\"},\"colorscale\":[[0.0,\"#0d0887\"],[0.1111111111111111,\"#46039f\"],[0.2222222222222222,\"#7201a8\"],[0.3333333333333333,\"#9c179e\"],[0.4444444444444444,\"#bd3786\"],[0.5555555555555556,\"#d8576b\"],[0.6666666666666666,\"#ed7953\"],[0.7777777777777778,\"#fb9f3a\"],[0.8888888888888888,\"#fdca26\"],[1.0,\"#f0f921\"]]}],\"heatmap\":[{\"type\":\"heatmap\",\"colorbar\":{\"outlinewidth\":0,\"ticks\":\"\"},\"colorscale\":[[0.0,\"#0d0887\"],[0.1111111111111111,\"#46039f\"],[0.2222222222222222,\"#7201a8\"],[0.3333333333333333,\"#9c179e\"],[0.4444444444444444,\"#bd3786\"],[0.5555555555555556,\"#d8576b\"],[0.6666666666666666,\"#ed7953\"],[0.7777777777777778,\"#fb9f3a\"],[0.8888888888888888,\"#fdca26\"],[1.0,\"#f0f921\"]]}],\"heatmapgl\":[{\"type\":\"heatmapgl\",\"colorbar\":{\"outlinewidth\":0,\"ticks\":\"\"},\"colorscale\":[[0.0,\"#0d0887\"],[0.1111111111111111,\"#46039f\"],[0.2222222222222222,\"#7201a8\"],[0.3333333333333333,\"#9c179e\"],[0.4444444444444444,\"#bd3786\"],[0.5555555555555556,\"#d8576b\"],[0.6666666666666666,\"#ed7953\"],[0.7777777777777778,\"#fb9f3a\"],[0.8888888888888888,\"#fdca26\"],[1.0,\"#f0f921\"]]}],\"contourcarpet\":[{\"type\":\"contourcarpet\",\"colorbar\":{\"outlinewidth\":0,\"ticks\":\"\"}}],\"contour\":[{\"type\":\"contour\",\"colorbar\":{\"outlinewidth\":0,\"ticks\":\"\"},\"colorscale\":[[0.0,\"#0d0887\"],[0.1111111111111111,\"#46039f\"],[0.2222222222222222,\"#7201a8\"],[0.3333333333333333,\"#9c179e\"],[0.4444444444444444,\"#bd3786\"],[0.5555555555555556,\"#d8576b\"],[0.6666666666666666,\"#ed7953\"],[0.7777777777777778,\"#fb9f3a\"],[0.8888888888888888,\"#fdca26\"],[1.0,\"#f0f921\"]]}],\"surface\":[{\"type\":\"surface\",\"colorbar\":{\"outlinewidth\":0,\"ticks\":\"\"},\"colorscale\":[[0.0,\"#0d0887\"],[0.1111111111111111,\"#46039f\"],[0.2222222222222222,\"#7201a8\"],[0.3333333333333333,\"#9c179e\"],[0.4444444444444444,\"#bd3786\"],[0.5555555555555556,\"#d8576b\"],[0.6666666666666666,\"#ed7953\"],[0.7777777777777778,\"#fb9f3a\"],[0.8888888888888888,\"#fdca26\"],[1.0,\"#f0f921\"]]}],\"mesh3d\":[{\"type\":\"mesh3d\",\"colorbar\":{\"outlinewidth\":0,\"ticks\":\"\"}}],\"scatter\":[{\"fillpattern\":{\"fillmode\":\"overlay\",\"size\":10,\"solidity\":0.2},\"type\":\"scatter\"}],\"parcoords\":[{\"type\":\"parcoords\",\"line\":{\"colorbar\":{\"outlinewidth\":0,\"ticks\":\"\"}}}],\"scatterpolargl\":[{\"type\":\"scatterpolargl\",\"marker\":{\"colorbar\":{\"outlinewidth\":0,\"ticks\":\"\"}}}],\"bar\":[{\"error_x\":{\"color\":\"#2a3f5f\"},\"error_y\":{\"color\":\"#2a3f5f\"},\"marker\":{\"line\":{\"color\":\"#E5ECF6\",\"width\":0.5},\"pattern\":{\"fillmode\":\"overlay\",\"size\":10,\"solidity\":0.2}},\"type\":\"bar\"}],\"scattergeo\":[{\"type\":\"scattergeo\",\"marker\":{\"colorbar\":{\"outlinewidth\":0,\"ticks\":\"\"}}}],\"scatterpolar\":[{\"type\":\"scatterpolar\",\"marker\":{\"colorbar\":{\"outlinewidth\":0,\"ticks\":\"\"}}}],\"histogram\":[{\"marker\":{\"pattern\":{\"fillmode\":\"overlay\",\"size\":10,\"solidity\":0.2}},\"type\":\"histogram\"}],\"scattergl\":[{\"type\":\"scattergl\",\"marker\":{\"colorbar\":{\"outlinewidth\":0,\"ticks\":\"\"}}}],\"scatter3d\":[{\"type\":\"scatter3d\",\"line\":{\"colorbar\":{\"outlinewidth\":0,\"ticks\":\"\"}},\"marker\":{\"colorbar\":{\"outlinewidth\":0,\"ticks\":\"\"}}}],\"scattermapbox\":[{\"type\":\"scattermapbox\",\"marker\":{\"colorbar\":{\"outlinewidth\":0,\"ticks\":\"\"}}}],\"scatterternary\":[{\"type\":\"scatterternary\",\"marker\":{\"colorbar\":{\"outlinewidth\":0,\"ticks\":\"\"}}}],\"scattercarpet\":[{\"type\":\"scattercarpet\",\"marker\":{\"colorbar\":{\"outlinewidth\":0,\"ticks\":\"\"}}}],\"carpet\":[{\"aaxis\":{\"endlinecolor\":\"#2a3f5f\",\"gridcolor\":\"white\",\"linecolor\":\"white\",\"minorgridcolor\":\"white\",\"startlinecolor\":\"#2a3f5f\"},\"baxis\":{\"endlinecolor\":\"#2a3f5f\",\"gridcolor\":\"white\",\"linecolor\":\"white\",\"minorgridcolor\":\"white\",\"startlinecolor\":\"#2a3f5f\"},\"type\":\"carpet\"}],\"table\":[{\"cells\":{\"fill\":{\"color\":\"#EBF0F8\"},\"line\":{\"color\":\"white\"}},\"header\":{\"fill\":{\"color\":\"#C8D4E3\"},\"line\":{\"color\":\"white\"}},\"type\":\"table\"}],\"barpolar\":[{\"marker\":{\"line\":{\"color\":\"#E5ECF6\",\"width\":0.5},\"pattern\":{\"fillmode\":\"overlay\",\"size\":10,\"solidity\":0.2}},\"type\":\"barpolar\"}],\"pie\":[{\"automargin\":true,\"type\":\"pie\"}]},\"layout\":{\"autotypenumbers\":\"strict\",\"colorway\":[\"#636efa\",\"#EF553B\",\"#00cc96\",\"#ab63fa\",\"#FFA15A\",\"#19d3f3\",\"#FF6692\",\"#B6E880\",\"#FF97FF\",\"#FECB52\"],\"font\":{\"color\":\"#2a3f5f\"},\"hovermode\":\"closest\",\"hoverlabel\":{\"align\":\"left\"},\"paper_bgcolor\":\"white\",\"plot_bgcolor\":\"#E5ECF6\",\"polar\":{\"bgcolor\":\"#E5ECF6\",\"angularaxis\":{\"gridcolor\":\"white\",\"linecolor\":\"white\",\"ticks\":\"\"},\"radialaxis\":{\"gridcolor\":\"white\",\"linecolor\":\"white\",\"ticks\":\"\"}},\"ternary\":{\"bgcolor\":\"#E5ECF6\",\"aaxis\":{\"gridcolor\":\"white\",\"linecolor\":\"white\",\"ticks\":\"\"},\"baxis\":{\"gridcolor\":\"white\",\"linecolor\":\"white\",\"ticks\":\"\"},\"caxis\":{\"gridcolor\":\"white\",\"linecolor\":\"white\",\"ticks\":\"\"}},\"coloraxis\":{\"colorbar\":{\"outlinewidth\":0,\"ticks\":\"\"}},\"colorscale\":{\"sequential\":[[0.0,\"#0d0887\"],[0.1111111111111111,\"#46039f\"],[0.2222222222222222,\"#7201a8\"],[0.3333333333333333,\"#9c179e\"],[0.4444444444444444,\"#bd3786\"],[0.5555555555555556,\"#d8576b\"],[0.6666666666666666,\"#ed7953\"],[0.7777777777777778,\"#fb9f3a\"],[0.8888888888888888,\"#fdca26\"],[1.0,\"#f0f921\"]],\"sequentialminus\":[[0.0,\"#0d0887\"],[0.1111111111111111,\"#46039f\"],[0.2222222222222222,\"#7201a8\"],[0.3333333333333333,\"#9c179e\"],[0.4444444444444444,\"#bd3786\"],[0.5555555555555556,\"#d8576b\"],[0.6666666666666666,\"#ed7953\"],[0.7777777777777778,\"#fb9f3a\"],[0.8888888888888888,\"#fdca26\"],[1.0,\"#f0f921\"]],\"diverging\":[[0,\"#8e0152\"],[0.1,\"#c51b7d\"],[0.2,\"#de77ae\"],[0.3,\"#f1b6da\"],[0.4,\"#fde0ef\"],[0.5,\"#f7f7f7\"],[0.6,\"#e6f5d0\"],[0.7,\"#b8e186\"],[0.8,\"#7fbc41\"],[0.9,\"#4d9221\"],[1,\"#276419\"]]},\"xaxis\":{\"gridcolor\":\"white\",\"linecolor\":\"white\",\"ticks\":\"\",\"title\":{\"standoff\":15},\"zerolinecolor\":\"white\",\"automargin\":true,\"zerolinewidth\":2},\"yaxis\":{\"gridcolor\":\"white\",\"linecolor\":\"white\",\"ticks\":\"\",\"title\":{\"standoff\":15},\"zerolinecolor\":\"white\",\"automargin\":true,\"zerolinewidth\":2},\"scene\":{\"xaxis\":{\"backgroundcolor\":\"#E5ECF6\",\"gridcolor\":\"white\",\"linecolor\":\"white\",\"showbackground\":true,\"ticks\":\"\",\"zerolinecolor\":\"white\",\"gridwidth\":2},\"yaxis\":{\"backgroundcolor\":\"#E5ECF6\",\"gridcolor\":\"white\",\"linecolor\":\"white\",\"showbackground\":true,\"ticks\":\"\",\"zerolinecolor\":\"white\",\"gridwidth\":2},\"zaxis\":{\"backgroundcolor\":\"#E5ECF6\",\"gridcolor\":\"white\",\"linecolor\":\"white\",\"showbackground\":true,\"ticks\":\"\",\"zerolinecolor\":\"white\",\"gridwidth\":2}},\"shapedefaults\":{\"line\":{\"color\":\"#2a3f5f\"}},\"annotationdefaults\":{\"arrowcolor\":\"#2a3f5f\",\"arrowhead\":0,\"arrowwidth\":1},\"geo\":{\"bgcolor\":\"white\",\"landcolor\":\"#E5ECF6\",\"subunitcolor\":\"white\",\"showland\":true,\"showlakes\":true,\"lakecolor\":\"white\"},\"title\":{\"x\":0.05},\"mapbox\":{\"style\":\"light\"}}},\"xaxis\":{\"anchor\":\"y\",\"domain\":[0.0,1.0],\"title\":{\"text\":\"Emoji\"}},\"yaxis\":{\"anchor\":\"x\",\"domain\":[0.0,1.0],\"title\":{\"text\":\"Count\"}},\"coloraxis\":{\"colorbar\":{\"title\":{\"text\":\"color\"}},\"colorscale\":[[0.0,\"#0d0887\"],[0.1111111111111111,\"#46039f\"],[0.2222222222222222,\"#7201a8\"],[0.3333333333333333,\"#9c179e\"],[0.4444444444444444,\"#bd3786\"],[0.5555555555555556,\"#d8576b\"],[0.6666666666666666,\"#ed7953\"],[0.7777777777777778,\"#fb9f3a\"],[0.8888888888888888,\"#fdca26\"],[1.0,\"#f0f921\"]]},\"legend\":{\"tracegroupgap\":0},\"title\":{\"text\":\"Distribution of Emojis\"},\"barmode\":\"relative\"},                        {\"responsive\": true}                    ).then(function(){\n",
       "                            \n",
       "var gd = document.getElementById('0f4185c0-da90-4504-a535-c7ce755e7d45');\n",
       "var x = new MutationObserver(function (mutations, observer) {{\n",
       "        var display = window.getComputedStyle(gd).display;\n",
       "        if (!display || display === 'none') {{\n",
       "            console.log([gd, 'removed!']);\n",
       "            Plotly.purge(gd);\n",
       "            observer.disconnect();\n",
       "        }}\n",
       "}});\n",
       "\n",
       "// Listen for the removal of the full notebook cells\n",
       "var notebookContainer = gd.closest('#notebook-container');\n",
       "if (notebookContainer) {{\n",
       "    x.observe(notebookContainer, {childList: true});\n",
       "}}\n",
       "\n",
       "// Listen for the clearing of the current output cell\n",
       "var outputEl = gd.closest('.output');\n",
       "if (outputEl) {{\n",
       "    x.observe(outputEl, {childList: true});\n",
       "}}\n",
       "\n",
       "                        })                };                });            </script>        </div>"
      ]
     },
     "metadata": {},
     "output_type": "display_data"
    }
   ],
   "source": [
    "emoji_counts = dict(zip(*np.unique(y_train, return_counts=True)))\n",
    "emoji_labels = [emoji_to_name[str(emoji)] for emoji in emoji_counts.keys()]\n",
    "fig = px.bar(x=emoji_labels, y=list(emoji_counts.values()), color=list(emoji_counts.keys()),\n",
    "             color_discrete_sequence=px.colors.qualitative.Dark24, title='Distribution of Emojis')\n",
    "fig.update_xaxes(title='Emoji')\n",
    "fig.update_yaxes(title='Count')\n",
    "fig.show()"
   ]
  },
  {
   "cell_type": "markdown",
   "id": "4c0a7e1b",
   "metadata": {
    "papermill": {
     "duration": 0.007698,
     "end_time": "2023-04-17T15:14:48.385695",
     "exception": false,
     "start_time": "2023-04-17T15:14:48.377997",
     "status": "completed"
    },
    "tags": []
   },
   "source": [
    "<a id=\"3\"></a>\n",
    "<h1 style='background:#00EFFF;border:0; color:black;\n",
    "    box-shadow: 10px 10px 5px 0px rgba(0,0,0,0.75);\n",
    "    transform: rotateX(10deg);\n",
    "    '><center style='color: #000000;'>Data Preprocessing</center></h1>\n",
    "\n",
    "# Data Preprocessing"
   ]
  },
  {
   "cell_type": "code",
   "execution_count": 11,
   "id": "d8390db6",
   "metadata": {
    "execution": {
     "iopub.execute_input": "2023-04-17T15:14:48.403102Z",
     "iopub.status.busy": "2023-04-17T15:14:48.402155Z",
     "iopub.status.idle": "2023-04-17T15:14:48.409516Z",
     "shell.execute_reply": "2023-04-17T15:14:48.408483Z"
    },
    "papermill": {
     "duration": 0.018461,
     "end_time": "2023-04-17T15:14:48.411828",
     "exception": false,
     "start_time": "2023-04-17T15:14:48.393367",
     "status": "completed"
    },
    "tags": []
   },
   "outputs": [],
   "source": [
    "def sentences_to_indices(X, word_to_index, max_len):\n",
    "    \"\"\"\n",
    "    Convert a list of sentences X to a numpy array of word indices using the provided word_to_index mapping.\n",
    "    Arguments:\n",
    "    X -- list of sentences\n",
    "    word_to_index -- dictionary that maps each word in the vocabulary to a unique index\n",
    "    max_len -- maximum length of a sentence\n",
    "    Returns:\n",
    "    X_indices -- numpy array of shape (m, max_len) where m is the number of sentences in X and each row in X_indices represents a sentence in X as a sequence of word indices\n",
    "    \"\"\"\n",
    "    # Get the number of training examples\n",
    "    m = X.shape[0]\n",
    "\n",
    "    # Initialize X_indices with zeros\n",
    "    X_indices = np.zeros((m, max_len))\n",
    "\n",
    "    # Loop over all the training examples\n",
    "    \n",
    "    for i in range(m):\n",
    "        \n",
    "        # Split the sentence into words and convert to lowercase\n",
    "        sentence_words = (X[i].lower()).split()\n",
    "        for j, w in enumerate(sentence_words):\n",
    "            # Lookup the index of the word in the vocabulary and store it in X_indices\n",
    "            X_indices[i, j] = word_to_index[w]   # lookup index of word from vocabulary\n",
    "            \n",
    "    return X_indices"
   ]
  },
  {
   "cell_type": "code",
   "execution_count": 12,
   "id": "1d9a9a57",
   "metadata": {
    "execution": {
     "iopub.execute_input": "2023-04-17T15:14:48.429329Z",
     "iopub.status.busy": "2023-04-17T15:14:48.429051Z",
     "iopub.status.idle": "2023-04-17T15:14:48.433828Z",
     "shell.execute_reply": "2023-04-17T15:14:48.432752Z"
    },
    "papermill": {
     "duration": 0.016091,
     "end_time": "2023-04-17T15:14:48.436312",
     "exception": false,
     "start_time": "2023-04-17T15:14:48.420221",
     "status": "completed"
    },
    "tags": []
   },
   "outputs": [],
   "source": [
    "max_length  = len(max(X_train, key=len).split())"
   ]
  },
  {
   "cell_type": "code",
   "execution_count": 13,
   "id": "f0f839c7",
   "metadata": {
    "execution": {
     "iopub.execute_input": "2023-04-17T15:14:48.453118Z",
     "iopub.status.busy": "2023-04-17T15:14:48.452814Z",
     "iopub.status.idle": "2023-04-17T15:14:48.458338Z",
     "shell.execute_reply": "2023-04-17T15:14:48.457006Z"
    },
    "papermill": {
     "duration": 0.016409,
     "end_time": "2023-04-17T15:14:48.460490",
     "exception": false,
     "start_time": "2023-04-17T15:14:48.444081",
     "status": "completed"
    },
    "tags": []
   },
   "outputs": [],
   "source": [
    "# Get indices for training and testing data\n",
    "X_train_indices = sentences_to_indices(X_train, word_to_index, max_length)\n",
    "X_test_indices = sentences_to_indices(X_test, word_to_index, max_length)"
   ]
  },
  {
   "cell_type": "markdown",
   "id": "665b94ae",
   "metadata": {
    "papermill": {
     "duration": 0.007632,
     "end_time": "2023-04-17T15:14:48.475925",
     "exception": false,
     "start_time": "2023-04-17T15:14:48.468293",
     "status": "completed"
    },
    "tags": []
   },
   "source": [
    "<a id=\"4\"></a>\n",
    "<h1 style='background:#00EFFF;border:0; color:black;\n",
    "    box-shadow: 10px 10px 5px 0px rgba(0,0,0,0.75);\n",
    "    transform: rotateX(10deg);\n",
    "    '><center style='color: #000000;'>Model Implementation</center></h1>\n",
    "\n",
    "# Model Implementation"
   ]
  },
  {
   "cell_type": "code",
   "execution_count": 14,
   "id": "e5beb743",
   "metadata": {
    "execution": {
     "iopub.execute_input": "2023-04-17T15:14:48.492754Z",
     "iopub.status.busy": "2023-04-17T15:14:48.492403Z",
     "iopub.status.idle": "2023-04-17T15:14:48.499344Z",
     "shell.execute_reply": "2023-04-17T15:14:48.498371Z"
    },
    "papermill": {
     "duration": 0.017536,
     "end_time": "2023-04-17T15:14:48.501358",
     "exception": false,
     "start_time": "2023-04-17T15:14:48.483822",
     "status": "completed"
    },
    "tags": []
   },
   "outputs": [],
   "source": [
    "def pretrained_embedding_layer(word_to_vec_map, word_to_index):\n",
    "    \"\"\"\n",
    "    Creates a Keras Embedding() layer and loads in pre-trained GloVe 50-dimensional vectors.\n",
    "    \n",
    "    Arguments:\n",
    "    word_to_vec_map -- dictionary mapping words to their GloVe vector representation.\n",
    "    word_to_index -- dictionary mapping from words to their indices in the vocabulary (400001 words)\n",
    "\n",
    "    Returns:\n",
    "    embedding_layer -- pretrained layer Keras instance\n",
    "    \"\"\"\n",
    "    \n",
    "    # Get the vocabulary size and dimensionality of the GloVe word vectors\n",
    "    vocab_size = len(word_to_index) + 1  # Adding 1 to fit Keras embedding layer requirement\n",
    "    any_word = list(word_to_vec_map.keys())[0]\n",
    "    emb_dim = word_to_vec_map[any_word].shape[0]\n",
    "\n",
    "    # Initialize the embedding matrix with zeros\n",
    "    emb_matrix = np.zeros((vocab_size, emb_dim))\n",
    "\n",
    "    # Loop over all words in the vocabulary and lookup their GloVe vector representation\n",
    "    for word, idx in word_to_index.items():\n",
    "        if word in word_to_vec_map:\n",
    "            emb_matrix[idx, :] = word_to_vec_map[word]\n",
    "\n",
    "    # Define the Keras embedding layer with pre-trained weights\n",
    "    embedding_layer = Embedding(vocab_size, emb_dim, trainable=False)\n",
    "\n",
    "    # Build the embedding layer and set the weights using the embedding matrix\n",
    "    embedding_layer.build((None,))\n",
    "    embedding_layer.set_weights([emb_matrix])\n",
    "\n",
    "    # Return the embedding layer\n",
    "    return embedding_layer"
   ]
  },
  {
   "cell_type": "code",
   "execution_count": 15,
   "id": "14bb5faf",
   "metadata": {
    "execution": {
     "iopub.execute_input": "2023-04-17T15:14:48.518191Z",
     "iopub.status.busy": "2023-04-17T15:14:48.517925Z",
     "iopub.status.idle": "2023-04-17T15:14:53.167416Z",
     "shell.execute_reply": "2023-04-17T15:14:53.166384Z"
    },
    "papermill": {
     "duration": 4.660711,
     "end_time": "2023-04-17T15:14:53.169935",
     "exception": false,
     "start_time": "2023-04-17T15:14:48.509224",
     "status": "completed"
    },
    "tags": []
   },
   "outputs": [],
   "source": [
    "# Define the input layer for the sentence indices\n",
    "sentence_indices = tf.keras.Input(shape=(max_length,), dtype='int32')\n",
    "\n",
    "# Load in pre-trained GloVe embeddings using the function defined earlier\n",
    "embedding_layer = pretrained_embedding_layer(word_to_vec_map, word_to_index)\n",
    "\n",
    "# Create an embedding layer with pre-trained weights and apply to the sentence indices\n",
    "embeddings = embedding_layer(sentence_indices)\n",
    "\n",
    "# Add a Bidirectional LSTM layer with 128 units and return sequences for each time step\n",
    "X = tf.keras.layers.Bidirectional(tf.keras.layers.LSTM(128, return_sequences=True))(embeddings)\n",
    "\n",
    "# Apply a 50% dropout to the output of the first LSTM layer\n",
    "X = tf.keras.layers.Dropout(0.5)(X)\n",
    "\n",
    "# Add a second Bidirectional LSTM layer with 128 units and return only the final output\n",
    "X = tf.keras.layers.Bidirectional(tf.keras.layers.LSTM(128, return_sequences=False))(X)\n",
    "\n",
    "# Apply a 50% dropout to the output of the second LSTM layer\n",
    "X = tf.keras.layers.Dropout(0.5)(X)\n",
    "\n",
    "# Add a final output layer with 5 units and softmax activation for multi-class classification\n",
    "X = tf.keras.layers.Dense(5,activation='softmax')(X)\n",
    "\n",
    "# Create a Keras model using the input layer and output layer\n",
    "model = tf.keras.models.Model(inputs=sentence_indices, outputs=X)\n"
   ]
  },
  {
   "cell_type": "code",
   "execution_count": 16,
   "id": "82b2f443",
   "metadata": {
    "execution": {
     "iopub.execute_input": "2023-04-17T15:14:53.188267Z",
     "iopub.status.busy": "2023-04-17T15:14:53.187942Z",
     "iopub.status.idle": "2023-04-17T15:14:53.205211Z",
     "shell.execute_reply": "2023-04-17T15:14:53.204346Z"
    },
    "papermill": {
     "duration": 0.029366,
     "end_time": "2023-04-17T15:14:53.207725",
     "exception": false,
     "start_time": "2023-04-17T15:14:53.178359",
     "status": "completed"
    },
    "tags": []
   },
   "outputs": [],
   "source": [
    "model.compile(loss='sparse_categorical_crossentropy', optimizer='adam', metrics=['accuracy'])"
   ]
  },
  {
   "cell_type": "code",
   "execution_count": 17,
   "id": "cfffcd6c",
   "metadata": {
    "_kg_hide-output": true,
    "execution": {
     "iopub.execute_input": "2023-04-17T15:14:53.224873Z",
     "iopub.status.busy": "2023-04-17T15:14:53.224562Z",
     "iopub.status.idle": "2023-04-17T15:15:07.561622Z",
     "shell.execute_reply": "2023-04-17T15:15:07.560617Z"
    },
    "papermill": {
     "duration": 14.348575,
     "end_time": "2023-04-17T15:15:07.564314",
     "exception": false,
     "start_time": "2023-04-17T15:14:53.215739",
     "status": "completed"
    },
    "tags": []
   },
   "outputs": [
    {
     "name": "stdout",
     "output_type": "stream",
     "text": [
      "Epoch 1/50\n",
      "5/5 - 12s - loss: 1.5571 - accuracy: 0.2879 - 12s/epoch - 2s/step\n",
      "Epoch 2/50\n",
      "5/5 - 0s - loss: 1.4925 - accuracy: 0.2955 - 44ms/epoch - 9ms/step\n",
      "Epoch 3/50\n",
      "5/5 - 0s - loss: 1.3621 - accuracy: 0.4545 - 45ms/epoch - 9ms/step\n",
      "Epoch 4/50\n",
      "5/5 - 0s - loss: 1.2649 - accuracy: 0.5530 - 44ms/epoch - 9ms/step\n",
      "Epoch 5/50\n",
      "5/5 - 0s - loss: 1.1291 - accuracy: 0.5833 - 44ms/epoch - 9ms/step\n",
      "Epoch 6/50\n",
      "5/5 - 0s - loss: 0.9260 - accuracy: 0.6970 - 43ms/epoch - 9ms/step\n",
      "Epoch 7/50\n",
      "5/5 - 0s - loss: 0.8065 - accuracy: 0.7273 - 47ms/epoch - 9ms/step\n",
      "Epoch 8/50\n",
      "5/5 - 0s - loss: 0.7038 - accuracy: 0.7045 - 44ms/epoch - 9ms/step\n",
      "Epoch 9/50\n",
      "5/5 - 0s - loss: 0.6149 - accuracy: 0.7955 - 44ms/epoch - 9ms/step\n",
      "Epoch 10/50\n",
      "5/5 - 0s - loss: 0.6235 - accuracy: 0.7879 - 44ms/epoch - 9ms/step\n",
      "Epoch 11/50\n",
      "5/5 - 0s - loss: 0.4474 - accuracy: 0.8333 - 45ms/epoch - 9ms/step\n",
      "Epoch 12/50\n",
      "5/5 - 0s - loss: 0.3803 - accuracy: 0.8561 - 44ms/epoch - 9ms/step\n",
      "Epoch 13/50\n",
      "5/5 - 0s - loss: 0.3645 - accuracy: 0.9015 - 43ms/epoch - 9ms/step\n",
      "Epoch 14/50\n",
      "5/5 - 0s - loss: 0.2996 - accuracy: 0.8712 - 43ms/epoch - 9ms/step\n",
      "Epoch 15/50\n",
      "5/5 - 0s - loss: 0.2740 - accuracy: 0.9015 - 43ms/epoch - 9ms/step\n",
      "Epoch 16/50\n",
      "5/5 - 0s - loss: 0.3317 - accuracy: 0.8712 - 43ms/epoch - 9ms/step\n",
      "Epoch 17/50\n",
      "5/5 - 0s - loss: 0.2346 - accuracy: 0.9091 - 44ms/epoch - 9ms/step\n",
      "Epoch 18/50\n",
      "5/5 - 0s - loss: 0.1813 - accuracy: 0.9394 - 44ms/epoch - 9ms/step\n",
      "Epoch 19/50\n",
      "5/5 - 0s - loss: 0.2139 - accuracy: 0.9394 - 44ms/epoch - 9ms/step\n",
      "Epoch 20/50\n",
      "5/5 - 0s - loss: 0.1661 - accuracy: 0.9470 - 44ms/epoch - 9ms/step\n",
      "Epoch 21/50\n",
      "5/5 - 0s - loss: 0.1229 - accuracy: 0.9621 - 45ms/epoch - 9ms/step\n",
      "Epoch 22/50\n",
      "5/5 - 0s - loss: 0.1026 - accuracy: 0.9621 - 43ms/epoch - 9ms/step\n",
      "Epoch 23/50\n",
      "5/5 - 0s - loss: 0.0886 - accuracy: 0.9773 - 43ms/epoch - 9ms/step\n",
      "Epoch 24/50\n",
      "5/5 - 0s - loss: 0.1249 - accuracy: 0.9697 - 44ms/epoch - 9ms/step\n",
      "Epoch 25/50\n",
      "5/5 - 0s - loss: 0.1173 - accuracy: 0.9470 - 43ms/epoch - 9ms/step\n",
      "Epoch 26/50\n",
      "5/5 - 0s - loss: 0.0906 - accuracy: 0.9545 - 46ms/epoch - 9ms/step\n",
      "Epoch 27/50\n",
      "5/5 - 0s - loss: 0.0375 - accuracy: 0.9848 - 45ms/epoch - 9ms/step\n",
      "Epoch 28/50\n",
      "5/5 - 0s - loss: 0.0460 - accuracy: 0.9773 - 48ms/epoch - 10ms/step\n",
      "Epoch 29/50\n",
      "5/5 - 0s - loss: 0.0214 - accuracy: 1.0000 - 45ms/epoch - 9ms/step\n",
      "Epoch 30/50\n",
      "5/5 - 0s - loss: 0.0228 - accuracy: 0.9924 - 44ms/epoch - 9ms/step\n",
      "Epoch 31/50\n",
      "5/5 - 0s - loss: 0.0136 - accuracy: 1.0000 - 44ms/epoch - 9ms/step\n",
      "Epoch 32/50\n",
      "5/5 - 0s - loss: 0.0090 - accuracy: 1.0000 - 44ms/epoch - 9ms/step\n",
      "Epoch 33/50\n",
      "5/5 - 0s - loss: 0.0064 - accuracy: 1.0000 - 44ms/epoch - 9ms/step\n",
      "Epoch 34/50\n",
      "5/5 - 0s - loss: 0.0065 - accuracy: 1.0000 - 44ms/epoch - 9ms/step\n",
      "Epoch 35/50\n",
      "5/5 - 0s - loss: 0.0069 - accuracy: 1.0000 - 44ms/epoch - 9ms/step\n",
      "Epoch 36/50\n",
      "5/5 - 0s - loss: 0.0048 - accuracy: 1.0000 - 44ms/epoch - 9ms/step\n",
      "Epoch 37/50\n",
      "5/5 - 0s - loss: 0.0043 - accuracy: 1.0000 - 44ms/epoch - 9ms/step\n",
      "Epoch 38/50\n",
      "5/5 - 0s - loss: 0.0045 - accuracy: 1.0000 - 44ms/epoch - 9ms/step\n",
      "Epoch 39/50\n",
      "5/5 - 0s - loss: 0.0034 - accuracy: 1.0000 - 44ms/epoch - 9ms/step\n",
      "Epoch 40/50\n",
      "5/5 - 0s - loss: 0.0045 - accuracy: 1.0000 - 45ms/epoch - 9ms/step\n",
      "Epoch 41/50\n",
      "5/5 - 0s - loss: 0.0023 - accuracy: 1.0000 - 56ms/epoch - 11ms/step\n",
      "Epoch 42/50\n",
      "5/5 - 0s - loss: 0.0034 - accuracy: 1.0000 - 46ms/epoch - 9ms/step\n",
      "Epoch 43/50\n",
      "5/5 - 0s - loss: 0.0039 - accuracy: 1.0000 - 44ms/epoch - 9ms/step\n",
      "Epoch 44/50\n",
      "5/5 - 0s - loss: 0.0024 - accuracy: 1.0000 - 44ms/epoch - 9ms/step\n",
      "Epoch 45/50\n",
      "5/5 - 0s - loss: 0.0029 - accuracy: 1.0000 - 45ms/epoch - 9ms/step\n",
      "Epoch 46/50\n",
      "5/5 - 0s - loss: 0.0022 - accuracy: 1.0000 - 43ms/epoch - 9ms/step\n",
      "Epoch 47/50\n",
      "5/5 - 0s - loss: 0.0012 - accuracy: 1.0000 - 43ms/epoch - 9ms/step\n",
      "Epoch 48/50\n",
      "5/5 - 0s - loss: 0.0018 - accuracy: 1.0000 - 43ms/epoch - 9ms/step\n",
      "Epoch 49/50\n",
      "5/5 - 0s - loss: 0.0013 - accuracy: 1.0000 - 45ms/epoch - 9ms/step\n",
      "Epoch 50/50\n",
      "5/5 - 0s - loss: 0.0013 - accuracy: 1.0000 - 44ms/epoch - 9ms/step\n"
     ]
    },
    {
     "data": {
      "text/plain": [
       "<keras.callbacks.History at 0x705740321f50>"
      ]
     },
     "execution_count": 17,
     "metadata": {},
     "output_type": "execute_result"
    }
   ],
   "source": [
    "model.fit(X_train_indices, y_train, epochs = 50,verbose=2)"
   ]
  },
  {
   "cell_type": "markdown",
   "id": "476b7d8a",
   "metadata": {
    "papermill": {
     "duration": 0.012886,
     "end_time": "2023-04-17T15:15:07.590638",
     "exception": false,
     "start_time": "2023-04-17T15:15:07.577752",
     "status": "completed"
    },
    "tags": []
   },
   "source": [
    "<a id=\"5\"></a>\n",
    "<h1 style='background:#00EFFF;border:0; color:black;\n",
    "    box-shadow: 10px 10px 5px 0px rgba(0,0,0,0.75);\n",
    "    transform: rotateX(10deg);\n",
    "    '><center style='color: #000000;'>Evaluation</center></h1>\n",
    "\n",
    "# Evaluation"
   ]
  },
  {
   "cell_type": "code",
   "execution_count": 18,
   "id": "3440fdf4",
   "metadata": {
    "execution": {
     "iopub.execute_input": "2023-04-17T15:15:07.620252Z",
     "iopub.status.busy": "2023-04-17T15:15:07.618437Z",
     "iopub.status.idle": "2023-04-17T15:15:09.071702Z",
     "shell.execute_reply": "2023-04-17T15:15:09.070582Z"
    },
    "papermill": {
     "duration": 1.470703,
     "end_time": "2023-04-17T15:15:09.074206",
     "exception": false,
     "start_time": "2023-04-17T15:15:07.603503",
     "status": "completed"
    },
    "tags": []
   },
   "outputs": [
    {
     "name": "stdout",
     "output_type": "stream",
     "text": [
      "2/2 [==============================] - 1s 10ms/step - loss: 0.4553 - accuracy: 0.8571\n"
     ]
    },
    {
     "data": {
      "text/plain": [
       "[0.4553002417087555, 0.8571428656578064]"
      ]
     },
     "execution_count": 18,
     "metadata": {},
     "output_type": "execute_result"
    }
   ],
   "source": [
    "model.evaluate(X_test_indices, y_test)"
   ]
  },
  {
   "cell_type": "code",
   "execution_count": 19,
   "id": "884099ce",
   "metadata": {
    "execution": {
     "iopub.execute_input": "2023-04-17T15:15:09.102259Z",
     "iopub.status.busy": "2023-04-17T15:15:09.101946Z",
     "iopub.status.idle": "2023-04-17T15:15:09.108086Z",
     "shell.execute_reply": "2023-04-17T15:15:09.107047Z"
    },
    "papermill": {
     "duration": 0.022646,
     "end_time": "2023-04-17T15:15:09.110398",
     "exception": false,
     "start_time": "2023-04-17T15:15:09.087752",
     "status": "completed"
    },
    "tags": []
   },
   "outputs": [],
   "source": [
    "def predict(sentence_indices):\n",
    "    \"\"\"\n",
    "    Predicts the emoji for a given input sentence using the trained Keras model.\n",
    "    \n",
    "    Arguments:\n",
    "    sentence_indices -- numpy array of sentence indices, shape (m, max_length)\n",
    "    \n",
    "    Returns:\n",
    "    emojis -- list of predicted emojis\n",
    "    \"\"\"\n",
    "    # Expand the array if it only has one dimension\n",
    "    if sentence_indices.ndim == 1:\n",
    "        sentence_indices = np.expand_dims(sentence_indices, axis=0)\n",
    "        \n",
    "    # Use the trained Keras model to make predictions\n",
    "    predictions = model.predict(sentence_indices, verbose=0)\n",
    "  \n",
    "    # Find the index of the maximum value in each prediction array\n",
    "    predictions = np.argmax(predictions,axis=1)\n",
    "    \n",
    "    # Map the predicted label to the corresponding emoji using the label_to_emoji() function\n",
    "    emojis = [label_to_emoji(prediction) for prediction in predictions]\n",
    "\n",
    "    return emojis"
   ]
  },
  {
   "cell_type": "code",
   "execution_count": 20,
   "id": "c33d18e0",
   "metadata": {
    "execution": {
     "iopub.execute_input": "2023-04-17T15:15:09.138178Z",
     "iopub.status.busy": "2023-04-17T15:15:09.137876Z",
     "iopub.status.idle": "2023-04-17T15:15:09.143742Z",
     "shell.execute_reply": "2023-04-17T15:15:09.142595Z"
    },
    "papermill": {
     "duration": 0.022193,
     "end_time": "2023-04-17T15:15:09.146021",
     "exception": false,
     "start_time": "2023-04-17T15:15:09.123828",
     "status": "completed"
    },
    "tags": []
   },
   "outputs": [],
   "source": [
    "def emojify(sentence_indices, sentence):\n",
    "    \"\"\"Emojifies a sentence by appending an emoji to each word based on a prediction model.\n",
    "\n",
    "    Args:\n",
    "        sentence_indices (list): A list of integers representing the indices of words in the sentence.\n",
    "        sentence (str): The input sentence to be emojified.\n",
    "\n",
    "    Returns:\n",
    "        list: A list of emojified sentences, where each sentence consists of the original sentence with an\n",
    "              emoji appended to each word.\n",
    "    \"\"\"\n",
    "    emojified_sentences = [] # create an empty list to hold emojified sentences\n",
    "    emojis = predict(sentence_indices) # call a prediction model to get emojis for each word in the sentence\n",
    "    for i in range(len(emojis)): # iterate over the list of emojis\n",
    "        emojified_sentence = sentence[i] + \" \" + emojis[i] # concatenate the original word and its corresponding emoji\n",
    "        emojified_sentences.append(emojified_sentence) # add the emojified word to the list of emojified sentences\n",
    "    return emojified_sentences # return the list of emojified sentences\n"
   ]
  },
  {
   "cell_type": "code",
   "execution_count": 21,
   "id": "61865278",
   "metadata": {
    "execution": {
     "iopub.execute_input": "2023-04-17T15:15:09.173880Z",
     "iopub.status.busy": "2023-04-17T15:15:09.172943Z",
     "iopub.status.idle": "2023-04-17T15:15:09.178865Z",
     "shell.execute_reply": "2023-04-17T15:15:09.177881Z"
    },
    "papermill": {
     "duration": 0.022011,
     "end_time": "2023-04-17T15:15:09.181049",
     "exception": false,
     "start_time": "2023-04-17T15:15:09.159038",
     "status": "completed"
    },
    "tags": []
   },
   "outputs": [],
   "source": [
    "def label_to_emoji(label: str) -> str:\n",
    "    \"\"\"\n",
    "    Returns an emoji corresponding to the given label from the emoji dictionary.\n",
    "\n",
    "    Parameters:\n",
    "    label (str): A string representing a label in the emoji dictionary.\n",
    "\n",
    "    Returns:\n",
    "    str: An emoji corresponding to the given label.\n",
    "\n",
    "    Raises:\n",
    "    KeyError: If the given label is not found in the emoji dictionary.\n",
    "    \"\"\"\n",
    "    # Convert the label to a string and retrieve the corresponding emoji from the dictionary\n",
    "    emoji_code = emoji_dictionary[str(label)]\n",
    "\n",
    "    # Use the emojize() function from the emoji module to convert the emoji code to an actual emoji\n",
    "    emoji_alias = emoji.emojize(emoji_code, language='alias')\n",
    "\n",
    "    return emoji_alias"
   ]
  },
  {
   "cell_type": "code",
   "execution_count": 22,
   "id": "0c33c423",
   "metadata": {
    "_kg_hide-output": true,
    "execution": {
     "iopub.execute_input": "2023-04-17T15:15:09.208481Z",
     "iopub.status.busy": "2023-04-17T15:15:09.208213Z",
     "iopub.status.idle": "2023-04-17T15:15:10.534488Z",
     "shell.execute_reply": "2023-04-17T15:15:10.533295Z"
    },
    "papermill": {
     "duration": 1.343054,
     "end_time": "2023-04-17T15:15:10.537258",
     "exception": false,
     "start_time": "2023-04-17T15:15:09.194204",
     "status": "completed"
    },
    "tags": []
   },
   "outputs": [],
   "source": [
    "emojified_sentences = emojify(X_test_indices[0:10], X_test[0:10])"
   ]
  },
  {
   "cell_type": "code",
   "execution_count": 23,
   "id": "122f3162",
   "metadata": {
    "execution": {
     "iopub.execute_input": "2023-04-17T15:15:10.565854Z",
     "iopub.status.busy": "2023-04-17T15:15:10.565499Z",
     "iopub.status.idle": "2023-04-17T15:15:10.571757Z",
     "shell.execute_reply": "2023-04-17T15:15:10.569797Z"
    },
    "papermill": {
     "duration": 0.02336,
     "end_time": "2023-04-17T15:15:10.574403",
     "exception": false,
     "start_time": "2023-04-17T15:15:10.551043",
     "status": "completed"
    },
    "tags": []
   },
   "outputs": [
    {
     "name": "stdout",
     "output_type": "stream",
     "text": [
      "['I want to eat 🍴',\n",
      " 'he did not answer 😞',\n",
      " 'he got a very nice raise 😄',\n",
      " 'she got me a nice present 😄',\n",
      " 'ha ha ha it was so funny 😄',\n",
      " 'he is a good friend 😄',\n",
      " 'I am upset 😞',\n",
      " 'We had such a lovely dinner tonight 😄',\n",
      " 'where is the food 🍴',\n",
      " 'Stop making this joke ha ha ha 😄']\n"
     ]
    }
   ],
   "source": [
    "pprint.pprint(emojified_sentences)"
   ]
  },
  {
   "cell_type": "markdown",
   "id": "8a2f6079",
   "metadata": {
    "papermill": {
     "duration": 0.013431,
     "end_time": "2023-04-17T15:15:10.601621",
     "exception": false,
     "start_time": "2023-04-17T15:15:10.588190",
     "status": "completed"
    },
    "tags": []
   },
   "source": [
    "<a id=\"6\"></a>\n",
    "<h1 style='background:#00EFFF;border:0; color:black;\n",
    "    box-shadow: 10px 10px 5px 0px rgba(0,0,0,0.75);\n",
    "    transform: rotateX(10deg);\n",
    "    '><center style='color: #3E3D53;'>Thank you</center></h1>\n",
    "\n",
    "# Thank you\n",
    "\n",
    "**Thank you for going through this notebook**\n",
    "\n",
    "**If you have any suggestions please let me know**"
   ]
  }
 ],
 "metadata": {
  "kernelspec": {
   "display_name": "Python 3",
   "language": "python",
   "name": "python3"
  },
  "language_info": {
   "codemirror_mode": {
    "name": "ipython",
    "version": 3
   },
   "file_extension": ".py",
   "mimetype": "text/x-python",
   "name": "python",
   "nbconvert_exporter": "python",
   "pygments_lexer": "ipython3",
   "version": "3.7.12"
  },
  "papermill": {
   "default_parameters": {},
   "duration": 53.854655,
   "end_time": "2023-04-17T15:15:14.470817",
   "environment_variables": {},
   "exception": null,
   "input_path": "__notebook__.ipynb",
   "output_path": "__notebook__.ipynb",
   "parameters": {},
   "start_time": "2023-04-17T15:14:20.616162",
   "version": "2.4.0"
  }
 },
 "nbformat": 4,
 "nbformat_minor": 5
}
